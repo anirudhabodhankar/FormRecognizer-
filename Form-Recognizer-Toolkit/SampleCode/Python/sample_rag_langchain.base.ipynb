{
 "cells": [
  {
   "cell_type": "markdown",
   "metadata": {},
   "source": [
    "# Retrieval Augmented Generation (RAG)\n",
    "\n",
    "This notebook demonstrates an example of using [LangChain](https://www.langchain.com/) to delvelop a Retrieval Augmented Generation (RAG) pattern. It uses Azure AI Document Intelligence as document loader, which can extracts tables, paragraphs, and layout information from pdf, image, office and html files. The output markdown can be used in LangChain's markdown header splitter, which enables semantic chunking of the documents. Then the chunked documents are indexed into Azure AI Search vectore store. Given a user query, it will use Azure AI Search to get the relevant chunks, then feed the context into the prompt with the query to generate the answer.\n",
    "\n",
    "![Semantic chunking in RAG](../media/semantic-chunking-rag.png)\n"
   ]
  },
  {
   "cell_type": "markdown",
   "metadata": {},
   "source": [
    "## Prerequisites\n",
    "- An Azure AI Document Intelligence resource in one of the 3 preview regions: **East US**, **West US2**, **West Europe** - follow [this document](https://learn.microsoft.com/azure/ai-services/document-intelligence/create-document-intelligence-resource?view=doc-intel-4.0.0) to create one if you don't have.\n",
    "- An Azure AI Search resource - follow [this document](https://learn.microsoft.com/azure/search/search-create-service-portal) to create one if you don't have.\n",
    "- An Azure OpenAI resource and deployments for embeddings model and chat model - follow [this document](https://learn.microsoft.com/azure/ai-services/openai/how-to/create-resource?pivots=web-portal) to create one if you don't have."
   ]
  },
  {
   "cell_type": "markdown",
   "metadata": {},
   "source": [
    "## Setup"
   ]
  },
  {
   "cell_type": "code",
   "execution_count": 18,
   "metadata": {},
   "outputs": [],
   "source": [
    "# pip install python-dotenv langchain langchain-community langchain-openai langchainhub openai tiktoken azure-ai-documentintelligence azure-identity azure-search-documents==11.4.0b8"
   ]
  },
  {
   "cell_type": "code",
   "execution_count": 19,
   "metadata": {},
   "outputs": [],
   "source": [
    "\"\"\"\n",
    "This code loads environment variables using the `dotenv` library and sets the necessary environment variables for Azure services.\n",
    "The environment variables are loaded from the `.env` file in the same directory as this notebook.\n",
    "\"\"\"\n",
    "import os\n",
    "from dotenv import load_dotenv\n",
    "\n",
    "load_dotenv()\n",
    "\n",
    "os.environ[\"AZURE_OPENAI_ENDPOINT\"] = os.getenv(\"AZURE_OPENAI_ENDPOINT\")\n",
    "os.environ[\"AZURE_OPENAI_API_KEY\"] = os.getenv(\"AZURE_OPENAI_API_KEY\")\n",
    "doc_intelligence_endpoint = os.getenv(\"AZURE_DOCUMENT_INTELLIGENCE_ENDPOINT\")\n",
    "doc_intelligence_key = os.getenv(\"AZURE_DOCUMENT_INTELLIGENCE_KEY\")\n"
   ]
  },
  {
   "cell_type": "code",
   "execution_count": 20,
   "metadata": {},
   "outputs": [],
   "source": [
    "from langchain import hub\n",
    "from langchain_openai import AzureChatOpenAI\n",
    "from langchain_community.document_loaders import AzureAIDocumentIntelligenceLoader\n",
    "from langchain_openai import AzureOpenAIEmbeddings\n",
    "from langchain.schema import StrOutputParser\n",
    "from langchain.schema.runnable import RunnablePassthrough\n",
    "from langchain.text_splitter import MarkdownHeaderTextSplitter\n",
    "from langchain.vectorstores.azuresearch import AzureSearch"
   ]
  },
  {
   "cell_type": "markdown",
   "metadata": {},
   "source": [
    "## Load a document"
   ]
  },
  {
   "cell_type": "code",
   "execution_count": 21,
   "metadata": {},
   "outputs": [],
   "source": [
    "loader = AzureAIDocumentIntelligenceLoader(file_path=\"data/BD-D100_D120GV_XGV.pdf\", api_key = doc_intelligence_key, api_endpoint = doc_intelligence_endpoint, api_model=\"prebuilt-layout\")\n",
    "docs = loader.load()"
   ]
  },
  {
   "cell_type": "markdown",
   "metadata": {},
   "source": [
    "## Split it into semantic chunks"
   ]
  },
  {
   "cell_type": "code",
   "execution_count": 22,
   "metadata": {},
   "outputs": [
    {
     "name": "stdout",
     "output_type": "stream",
     "text": [
      "Length of splits: 107\n"
     ]
    }
   ],
   "source": [
    "# Split the document into chunks base on markdown headers.\n",
    "headers_to_split_on = [\n",
    "    (\"#\", \"Header 1\"),\n",
    "    (\"##\", \"Header 2\"),\n",
    "    (\"###\", \"Header 3\"),\n",
    "]\n",
    "text_splitter = MarkdownHeaderTextSplitter(headers_to_split_on=headers_to_split_on)\n",
    "\n",
    "docs_string = docs[0].page_content\n",
    "splits = text_splitter.split_text(docs_string)\n",
    "\n",
    "print(\"Length of splits: \" + str(len(splits)))"
   ]
  },
  {
   "cell_type": "markdown",
   "metadata": {},
   "source": [
    "## Embed and index the chunks"
   ]
  },
  {
   "cell_type": "code",
   "execution_count": 23,
   "metadata": {},
   "outputs": [],
   "source": [
    "# Embed the splitted documents and insert into Azure Search vector stor\n",
    "\n",
    "aoai_embeddings = AzureOpenAIEmbeddings(\n",
    "    azure_deployment=\"text-embedding-ada-002\",\n",
    "    openai_api_version=\"2024-02-15-preview\",  # e.g., \"2023-12-01-preview\"\n",
    ")\n",
    "\n",
    "vector_store_address: str = os.getenv(\"AZURE_SEARCH_ENDPOINT\")\n",
    "vector_store_password: str = os.getenv(\"AZURE_SEARCH_ADMIN_KEY\")\n",
    "\n",
    "index_name: str = \"washer-index-base\"\n",
    "vector_store: AzureSearch = AzureSearch(\n",
    "    azure_search_endpoint=vector_store_address,\n",
    "    azure_search_key=vector_store_password,\n",
    "    index_name=index_name,\n",
    "    embedding_function=aoai_embeddings.embed_query,\n",
    ")"
   ]
  },
  {
   "cell_type": "code",
   "execution_count": 24,
   "metadata": {},
   "outputs": [
    {
     "data": {
      "text/plain": [
       "['YjdjZTBmZDgtYzIyNC00ZTRiLWI4NWQtM2RmNTc0Nzg3YTFh',\n",
       " 'YWZmNmY2OTEtOTY2MS00YmMxLWEwNDEtMWEyMjAwM2IwNzEz',\n",
       " 'YmE3ZjJmYmYtN2QzMS00Yjc5LTkzOGItY2EyNDlhMjQ0ZmQy',\n",
       " 'NjdkMDkxMWItZWRkNy00YTFhLWIyM2ItZDgyZmY1MmQyMmY2',\n",
       " 'MzZhMzU5NGMtZDVmNC00YWZjLWJmNjgtMjkyNDFkNzYyYWJi',\n",
       " 'NzUzYTFkZGItN2M1OS00NDBlLWJjY2ItZTA5NTBmODVjNmMx',\n",
       " 'YTBlNjZkZWUtNzdmNi00ZmIyLWFkMzgtMjNmZjAyOGJkNTA1',\n",
       " 'MjA0MWE3N2YtMzcwMi00OWIzLWIwMDktZmIyNmIwYTYzZDhi',\n",
       " 'ODY5NDAwOGYtYzYzMy00ZmVkLWI2NmItZmE3YTI3ZjYxMmI5',\n",
       " 'NGZjZjU0MGYtMDY5NC00NGE4LWI5ZGQtM2U4MDFjNDIzNDg4',\n",
       " 'Njc1ODEyZmQtOThjMy00NWM3LTk3MjItMTNlOWUwOWRhZDlk',\n",
       " 'MjE5NGNhZTUtZjNlNy00OTM2LWExZDEtYjI0NDdiNDNjOTU1',\n",
       " 'YzVmMjBjNTAtOTc2NS00YzRiLTg2ZmUtNmRkZDU3ODM1YWJk',\n",
       " 'YTA5MjUwMjktMTc2ZS00NTE4LWEzNjctMjE2ZTZiNWI4MTNh',\n",
       " 'MDkzYjU4NTQtZDQxMi00Mzk0LTliYTgtOGJhNTY5ZjdhZDJj',\n",
       " 'ZmVmM2U5NWMtY2QzYy00NDJhLTgxZDItMWMwMDAwYzg1YTE4',\n",
       " 'MjgxYjRiYjUtZWM3ZC00YTM5LWIwODEtZTIwZjNhMDUzMDY5',\n",
       " 'ODQzNDBlNGUtYjE5MS00YjhiLWE5YWMtMWVkYmYwZTY5OGY2',\n",
       " 'ZDY2MGIzOTQtNTI5OS00NzU5LThmOTAtNDA0YmQ5MGVkZmU1',\n",
       " 'ZWI0ODE1NDMtODAyNi00NTZmLWE3ZGItNGUxZDg0MjVjODlm',\n",
       " 'NjgwY2FjOTMtNWQ0My00NTFhLTg4MWMtMTk5MTQyZGZiZDFj',\n",
       " 'YmU1YTYzZGEtZTc1Zi00ZGEyLTk3N2MtMmUyNWYyNTg3ZGU0',\n",
       " 'NzgxZjI4N2ItZmE1NS00MDE3LTlhYzktZGRiNzIzNGU2NTQx',\n",
       " 'ZWY1MTg2MGQtZjk5NS00YTA5LWE1NGEtYTdlZGNjNjBlODRl',\n",
       " 'NjBhYmUwY2UtYjA0My00MzNiLTkzZjUtOGYwNGQyMzJlYTY4',\n",
       " 'NjAxMDIwNDEtZjQzNS00Y2FhLWIwZTAtNDZlZDZmN2EzNGFm',\n",
       " 'YjRiN2QxODItZTQyZS00MDJhLTgwOTgtMzFmZDQxNWFhNTJh',\n",
       " 'YzA2ODI0NDUtYzNiMS00ZDllLWI2ODgtZTUwOTkzZDc2MDQw',\n",
       " 'N2FhN2Y4NWQtNDA3YS00ZDEwLWI4ZmYtYTk3NWMyMzkxMTE2',\n",
       " 'YjAzYTVjNmQtYzJmMS00OTYxLThmNzYtYWNjMDMyNDQ3YThm',\n",
       " 'NGUwMmU1ZWMtOTRiYi00NTNkLWFlNmItNWViZjYwMjk3MGY2',\n",
       " 'MDY0ZGQ5OTUtNWY3Ni00NmFhLWE3OTktYjQwZGEzNTVmZTA5',\n",
       " 'MDlhYzFlYTctZjcxZi00ZTdmLWI4NGYtNmQwMTU1ZGI0M2I2',\n",
       " 'YThmMmY0Y2UtMWIxOS00OTg4LTgwODQtYWY5MjY4OWE1MGNl',\n",
       " 'ZmNmZGU1ZDktNWY0ZS00ZTU2LWI2OTgtOGIwOGVlNTJlMmJi',\n",
       " 'NTA0MmJkMWYtMzZlYS00NzVkLThjNmItNjk1NWE3NGUyMTJl',\n",
       " 'YmE1MGU0MGQtOTBiZC00ODExLWFkNzEtMDJmM2JiZTZlMWVj',\n",
       " 'ZjhjNmJjM2YtNWMwNS00N2EzLTgxY2ItNTFjNGFkZjlmMjBi',\n",
       " 'M2FhYzQ5YmEtZDlhOC00YzM2LWFjNjUtOWY1NjYyOWY3Y2Zk',\n",
       " 'ZDdlMjI1OWItOGMwYi00ZGY5LWI1NzYtM2EzODM4MzM1ZmYx',\n",
       " 'YjhjYTFlOTItOTI0Ny00NDViLWI3ZDQtMTg5MTVjNDIwZjM2',\n",
       " 'MmU2M2RiZDItMWM4OS00NmI4LWIzYzgtMGUzMjdkMDYxNDdj',\n",
       " 'ZjFlMTA4MWUtYjNjZS00ZWQ1LTk4ODctMWM1NjE3NzEyMTEx',\n",
       " 'ODI5OWZhNWItODRlNC00MjVlLWE2MTctOGI5ZjQzMGE0ZjU0',\n",
       " 'YjMyZDJiMDYtYTBkNC00YTYzLWEwNDUtYTQzNGQ2NmU2YjJl',\n",
       " 'ZmY0NTUwOWYtNWI0YS00NDkyLWI5NzEtZGMzMDFlODlmYWFk',\n",
       " 'ODJkMWRhNDEtMGUwYi00MGJhLTlhYjEtN2U5OTFjMTkyN2I0',\n",
       " 'NjVkZDdjY2MtMTVlYS00MjNkLWJlYTctZjc4YWFjODBiODc1',\n",
       " 'NWMyYmE5MDUtMjFmNy00OWFlLWJiMjEtZWFiZmI5OTBlNjhm',\n",
       " 'YzdkNTY3NmEtMjY5OC00MGIwLWIxM2ItNWZmYjg0ZjgxM2Iw',\n",
       " 'ZWI2NjBjMWMtNTE3Zi00MWM4LTgwOTktNzNhMmQ5OGQxOGI2',\n",
       " 'ODM4Mzg4MzgtOGJmOS00YTkyLWJjZjItMTMxZWU1MThkNGJm',\n",
       " 'ZThmMWNkNGEtNzg0ZC00NTY1LWExOWUtZTdjNDI0ZjE3OThi',\n",
       " 'ZjE1ZjEwYTAtOWY4YS00ODI2LWJkMjYtYWMxOWM5NjBlMWFm',\n",
       " 'Y2Q1N2I5Y2UtMWY4Ni00Nzc0LTg3MDUtMGM4MGI3MjA4ZDBl',\n",
       " 'ZTkyMWUyZjMtNmFlOC00NDFlLTljNzEtZjgwNTU4MjI2NTVj',\n",
       " 'MjZiNTExY2QtYzg5YS00ZjUzLTljZWUtYjJmMWEzZWJlMTc0',\n",
       " 'NjQ1MGRlNzgtZjM4Mi00YmNkLWFiYzAtMzFjMWMxNzg3MTY5',\n",
       " 'OGE5YjQ0YTctYmEwNy00YTJjLWIxOWQtYTI5YmJhMjc0Y2Q3',\n",
       " 'YWU0ZTBiMTEtN2RkNy00ZDhmLWJhNTQtZDVhMmY2MTA3ZTU5',\n",
       " 'ZmFhYjQ0NDEtZmM1ZC00ZjljLTgyNWMtY2JlZjUxODFiN2Vh',\n",
       " 'N2I2MDA3OGUtZWEwOC00OTdmLTlhZGItYWU3N2JlZDZiZDQ3',\n",
       " 'MmEzNmNmYWUtOGRjYy00OGI2LWE1NzUtNTA2YmYwZGZkMzU1',\n",
       " 'MjhhZjM2MDQtNDFkZC00NjM3LWEyZGItNDQxM2M5MGFhMTc4',\n",
       " 'MTMwYWJkNTctZTJhMS00MzgxLTkxNWMtZTkwMzM0ODQxMTdl',\n",
       " 'MzFkZjFiYjQtYzY3ZC00ZjMxLWJlNzMtMTE4ODIxNWI5ZTll',\n",
       " 'Mzk3MmZjNWEtZTU5ZS00MGUyLTg1YjktMjYwYjdkMDA3ZDI2',\n",
       " 'MmRlZGFkOTctYTQ2Ni00NTMwLTg5ZDMtMmE1YjA0ZWNhMmE1',\n",
       " 'NGM3YzY2ODUtYTBjMC00MTdlLWI4MzAtMzY3YzE0ZTE4MmNm',\n",
       " 'YzljZjQzZGYtYTA0YS00OGNiLTlmOTQtYmM3YzVkMGZlMmUx',\n",
       " 'Y2UxYjYzMGEtZThlYy00NzU3LTk3NTItYmM2NWU4OWM1YTM1',\n",
       " 'YTQzNTIwZDYtZTIxMS00NzI3LTkxZWMtM2Y2OWI3NWVlNDVj',\n",
       " 'YzM3NDI2MDQtYjkxMC00Yzc0LTk0MDktNTUxYmRhNDg4ZmUz',\n",
       " 'ZWZkZDU3OTMtYmIzMy00ZjY1LTk1NmEtMGY3NTI5MDJkYWM2',\n",
       " 'NTJmOGNmMGQtMzlkYy00YWJhLWE5MDEtMWY3MDA4OWZhM2Q4',\n",
       " 'ZTQ1ZDZkZDYtM2MxZC00Y2RmLWI5NWMtMzJmY2ExNDAxNTIz',\n",
       " 'ZjFjNWY2NGItOTM5Yy00MmRiLTlmMzAtMmJjNDcxYTI2NGNk',\n",
       " 'MmU1Y2Q4MjEtMWI3Yi00MmI3LWFlMDktMTIyMjVjZDQ1YmQ5',\n",
       " 'Yjk4NTQ2OGYtYWU1Zi00NGEwLTgyZmYtYWI3Yjk4YzgzYWI1',\n",
       " 'MTExNmQ3NzQtOGRlOC00ZjdkLWFhZTYtNjc1NzUxMDUwMmVj',\n",
       " 'MDA1ODU5YzEtZTIwMy00YjdlLWFkYTgtYWQ5NTI2OGRhMDhk',\n",
       " 'NTY4MmNhOTQtMGQ1NS00YzkxLWFiZDUtNjI4NDQ5MzExYzQ0',\n",
       " 'NjA3MTJlMjAtYWE1Yi00MTVmLWE5YzEtMWRmNDZjMWNjMjVi',\n",
       " 'Y2ZiYmNkMzgtOWQyNy00ZWU4LWE5N2ItNzI4YzEwZmQ2NThm',\n",
       " 'MDlmOTM3ZGEtZjY1Ni00YmZiLWFmZjctYWQxMTJkNGExMmNm',\n",
       " 'ZmVkODk3M2QtYzFiMC00Y2NhLTk3NTEtMjkwOWU4YjVmMTNi',\n",
       " 'OTczMTUzNTYtMmFkMC00NmY2LThlNjQtZGY5NDBmMzk0Yzgw',\n",
       " 'OTc0NjY1OTktNjc5YS00N2MzLWFlOGEtYzZkNTYwYTgwMTJj',\n",
       " 'NTg5YzczOGUtNjZkOC00MzA2LWJmYTktMmFiMjBjNDIwZDRl',\n",
       " 'MDFhMjA2MzYtMWZkNi00ZmM3LWEwMmEtYTdlODk3MjZmODRk',\n",
       " 'OWJmYmZkOTctMTRiMC00OTliLTlkMDAtMWU5NGQ4NmNkZDJi',\n",
       " 'YTM5MDgyM2UtYzg4MS00ZDE1LWJjMzgtOWJjODkwZjMwMzY3',\n",
       " 'M2EyZjUxM2EtOTI0OC00MzAyLWE0YzYtYmRhOGQ1NjU3NzFm',\n",
       " 'NDY1YTVhMjAtY2U1Ny00NDAxLTk0YjAtZWUzNDMyYjFiNzEy',\n",
       " 'OTkxM2MwODgtMjJkZS00YzA2LWE5NWMtYmIyOTIzM2EyNjkz',\n",
       " 'MDY2MDBkMmYtOTU1NC00NjU5LTgxMWYtYTcxY2Y1OGE4MTE4',\n",
       " 'ZWIyNjBlOWQtM2FkZS00MGYzLThlM2EtMjAzOTQ4NGJjMjQ2',\n",
       " 'M2VkM2U0MmItOTIyZC00NjQ1LTk1Y2MtZjFiYjNhZGNiMzYw',\n",
       " 'OTM5MDAzZTItMDc0NC00ZTM0LTliMmYtNDQ4NGMzN2UyNDRj',\n",
       " 'MjFhMWU0YjktYTM4OC00ZjUxLWFkOGYtNTc0NDBkMjM4ZDA3',\n",
       " 'YWE3YjgwYWYtYTFkZC00MmI5LWEyMGYtMTk0NDVlYWY2M2U3',\n",
       " 'N2MxNGNmMDktMTNkMy00YjA4LTliNjYtODM4NWIxZTNmODZh',\n",
       " 'YjkyYTQ4M2EtNjE2Mi00ZTEzLThlZGUtYzYzZjEwM2JlNGVh',\n",
       " 'NjdkNjdlZGUtNWZmNi00YTFmLWEzZmYtN2ZhMjFhM2JmNmQ5',\n",
       " 'YzgwZTQyM2ItMzBhZC00NmEzLThhOTAtM2VmODMyNDAwNmQ2',\n",
       " 'Y2QzYzNjOTEtYjRlNC00MGQ5LTkyZTYtMzMwZjVkNjdkMjdl',\n",
       " 'ODU4YzQwOWYtOTFiYi00MWE1LTgxY2QtMGVhNDY1N2U0YWMw']"
      ]
     },
     "execution_count": 24,
     "metadata": {},
     "output_type": "execute_result"
    }
   ],
   "source": [
    "vector_store.add_documents(documents=splits)"
   ]
  },
  {
   "cell_type": "markdown",
   "metadata": {},
   "source": [
    "## Retrive relevant chunks based on a question"
   ]
  },
  {
   "cell_type": "code",
   "execution_count": 26,
   "metadata": {},
   "outputs": [
    {
     "name": "stdout",
     "output_type": "stream",
     "text": [
      "Do not dismantle, repair or modify the appliance.  \n",
      "\\> This could cause malfunction, fire, electric shock or injury.  \n",
      "\\> For repair, please contact your local service center.  \n",
      "Do not put fire sources or anything inflammable in or near the washer dryer (gas, diesel, petrol, thinner, alcohol or clothes stained with these substances).  \n",
      "\\> This could cause an explosion or fire.  \n",
      "Do not pour water on the machine when it is running.  \n",
      "\\> This could cause an electric shock.  \n",
      "Do not climb on the washer dryer.  \n",
      "\\> This may cause injury.  \n",
      "Do not put heavy objects on the washer dryer.  \n",
      "\\> This may damage the surface of the worktop.  \n",
      "It is a malfunction if the drum is still rotating when the door is open. In this case never touch the drum nor laundry inside and stop using the washer dryer immediately, and contact your local service center for repair.  \n",
      "This appliance is not intended for use by persons (including children) with reduced physical, sensory or mental capabilities, or lack of experience and knowledge, unless they have been given supervision or instruction on how to use the appliance safely.\n"
     ]
    }
   ],
   "source": [
    "# Retrieve relevant chunks based on the question\n",
    "\n",
    "retriever = vector_store.as_retriever(search_type=\"similarity\", search_kwargs={\"k\": 3})\n",
    "\n",
    "retrieved_docs = retriever.get_relevant_documents(\n",
    "    \"can i repair the appliance on my own?\"\n",
    ")\n",
    "\n",
    "print(retrieved_docs[0].page_content)\n"
   ]
  },
  {
   "cell_type": "markdown",
   "metadata": {},
   "source": [
    "## Document Q&A"
   ]
  },
  {
   "cell_type": "code",
   "execution_count": 27,
   "metadata": {},
   "outputs": [
    {
     "data": {
      "text/plain": [
       "'Based on the provided context, you should not attempt to repair the appliance on your own. The instructions explicitly advise against dismantling, repairing, or modifying the appliance due to risks such as malfunction, fire, electric shock, or injury. For repairs, you are instructed to contact your local service center.'"
      ]
     },
     "execution_count": 27,
     "metadata": {},
     "output_type": "execute_result"
    }
   ],
   "source": [
    "# Ask a question about the document\n",
    "\n",
    "# Use a prompt for RAG that is checked into the LangChain prompt hub (https://smith.langchain.com/hub/rlm/rag-prompt?organizationId=989ad331-949f-4bac-9694-660074a208a7)\n",
    "prompt = hub.pull(\"rlm/rag-prompt\")\n",
    "llm = AzureChatOpenAI(\n",
    "    openai_api_version=\"2024-02-15-preview\",  # e.g., \"2023-12-01-preview\"\n",
    "    azure_deployment=\"gpt-4-turbo\",\n",
    "    temperature=0,\n",
    ")\n",
    "\n",
    "\n",
    "def format_docs(docs):\n",
    "    return \"\\n\\n\".join(doc.page_content for doc in docs)\n",
    "\n",
    "\n",
    "rag_chain = (\n",
    "    {\"context\": retriever | format_docs, \"question\": RunnablePassthrough()}\n",
    "    | prompt\n",
    "    | llm\n",
    "    | StrOutputParser()\n",
    ")\n",
    "\n",
    "rag_chain.invoke(\"can i repair the appliance on my own?\")"
   ]
  },
  {
   "cell_type": "markdown",
   "metadata": {},
   "source": [
    "## Doucment Q&A with references"
   ]
  },
  {
   "cell_type": "code",
   "execution_count": 28,
   "metadata": {},
   "outputs": [
    {
     "data": {
      "text/plain": [
       "{'documents': [{'Header 2': 'General safety'},\n",
       "  {'Header 2': 'Customer Service'},\n",
       "  {'Header 2': 'Installation'}],\n",
       " 'answer': 'Based on the provided context, you should not attempt to repair the appliance on your own. The instructions explicitly state not to dismantle, repair, or modify the appliance and to contact your local service center for repairs. Attempting to repair it yourself could cause malfunction, fire, electric shock, or injury.'}"
      ]
     },
     "execution_count": 28,
     "metadata": {},
     "output_type": "execute_result"
    }
   ],
   "source": [
    "# Return the retrieved documents or certain source metadata from the documents\n",
    "\n",
    "from operator import itemgetter\n",
    "\n",
    "from langchain.schema.runnable import RunnableMap\n",
    "\n",
    "rag_chain_from_docs = (\n",
    "    {\n",
    "        \"context\": lambda input: format_docs(input[\"documents\"]),\n",
    "        \"question\": itemgetter(\"question\"),\n",
    "    }\n",
    "    | prompt\n",
    "    | llm\n",
    "    | StrOutputParser()\n",
    ")\n",
    "rag_chain_with_source = RunnableMap(\n",
    "    {\"documents\": retriever, \"question\": RunnablePassthrough()}\n",
    ") | {\n",
    "    \"documents\": lambda input: [doc.metadata for doc in input[\"documents\"]],\n",
    "    \"answer\": rag_chain_from_docs,\n",
    "}\n",
    "\n",
    "rag_chain_with_source.invoke(\"can i repair the appliance on my own?\")"
   ]
  },
  {
   "cell_type": "code",
   "execution_count": 29,
   "metadata": {},
   "outputs": [
    {
     "data": {
      "text/plain": [
       "{'documents': [{'Header 2': 'General safety'},\n",
       "  {'Header 2': 'Safety Instructions'},\n",
       "  {'Header 2': 'Interior lighting setting (For model BD-D120XGV/BD-D100XGV)',\n",
       "   'Header 3': 'Emergency door release.'}],\n",
       " 'answer': \"The provided context does not specify the weight of the appliance or whether it is designed to be lifted with one hand. Therefore, based on the information given, I cannot determine if you can lift the appliance with one hand. It is generally recommended to follow the manufacturer's guidelines for moving appliances to avoid injury or damage.\"}"
      ]
     },
     "execution_count": 29,
     "metadata": {},
     "output_type": "execute_result"
    }
   ],
   "source": [
    "rag_chain_with_source.invoke(\"can i lift the appliance with one hand?\")"
   ]
  },
  {
   "cell_type": "code",
   "execution_count": 30,
   "metadata": {},
   "outputs": [
    {
     "data": {
      "text/plain": [
       "{'documents': [{'Header 2': 'Hose and cable length'},\n",
       "  {'Header 2': '. Connection on the right side'},\n",
       "  {'Header 2': '1', 'Header 3': '2'}],\n",
       " 'answer': 'The water supply hose is located at the rear panel of the washer dryer. It should be connected to a horizontal tap and firmly attached to ensure water-tightness. The hose connector and rubber seal are integral parts of the connection to the rear panel.'}"
      ]
     },
     "execution_count": 30,
     "metadata": {},
     "output_type": "execute_result"
    }
   ],
   "source": [
    "rag_chain_with_source.invoke(\"where is water supply hose located?\")"
   ]
  },
  {
   "cell_type": "code",
   "execution_count": 31,
   "metadata": {},
   "outputs": [
    {
     "data": {
      "text/plain": [
       "{'documents': [{'Header 2': 'Use with smartphones',\n",
       "   'Header 3': 'About the App function'},\n",
       "  {'Header 2': '5\\\\. Proceed to connect (pairing) the washer dryer to your smartphone.'},\n",
       "  {'Header 2': 'Operate the application on the smartphone.'}],\n",
       " 'answer': 'To pair the appliance with your phone, you can choose either the \"Simple connection\" or \"Manual connection\" method. For the Simple connection, operate the app on your smartphone, check your wireless LAN router connection, tap \"Pairing\" followed by \"Simple connection,\" and then follow the on-screen instructions to connect and set up the appliance. For the Manual connection, tap \"Pairing\" followed by \"Manual connection,\" enter your router\\'s password, and follow the on-screen instructions to connect and set up the appliance.'}"
      ]
     },
     "execution_count": 31,
     "metadata": {},
     "output_type": "execute_result"
    }
   ],
   "source": [
    "rag_chain_with_source.invoke(\"How do i pair the appliance with phone?\")"
   ]
  },
  {
   "cell_type": "code",
   "execution_count": 32,
   "metadata": {},
   "outputs": [
    {
     "data": {
      "text/plain": [
       "{'documents': [{'Header 2': 'To set and unset fabric softener'},\n",
       "  {'Header 2': 'Hints and Tips for Eco-friendly Washing'},\n",
       "  {'Header 2': 'Operation:'}],\n",
       " 'answer': 'The maximum load for the AI Wash program for washing is 12 kg for model BD-D120XGV/BD-D120GV and 10 kg for model BD-D100XGV/BD-D100GV. For washing and drying, the maximum load is 8 kg for model BD-D120XGV/BD-D120GV and 7 kg for model BD-D100XGV/BD-D100GV, with a lower temperature limit of 4 kg for both models.'}"
      ]
     },
     "execution_count": 32,
     "metadata": {},
     "output_type": "execute_result"
    }
   ],
   "source": [
    "rag_chain_with_source.invoke(\"what is max load for AI wash program for washing and drying?\")"
   ]
  },
  {
   "cell_type": "code",
   "execution_count": 33,
   "metadata": {},
   "outputs": [
    {
     "data": {
      "text/plain": [
       "{'documents': [{'Header 2': 'To set and unset fabric softener'},\n",
       "  {'Header 2': 'Hints and Tips for Eco-friendly Washing'},\n",
       "  {'Header 2': 'Operation:'}],\n",
       " 'answer': 'The AI Wash program is designed for washing your usual laundry. It automatically adjusts the washing method and operating time based on various conditions such as the type of detergent, type of clothing, water hardness, and load size. You should keep to the load limit specified for your model, which is 12 kg for the BD-D120XGV/BD-D120GV model and 10 kg for the BD-D100XGV/BD-D100GV model.'}"
      ]
     },
     "execution_count": 33,
     "metadata": {},
     "output_type": "execute_result"
    }
   ],
   "source": [
    "rag_chain_with_source.invoke(\"what type of laundry i can use for AI wash program?\")"
   ]
  },
  {
   "cell_type": "code",
   "execution_count": 34,
   "metadata": {},
   "outputs": [
    {
     "data": {
      "text/plain": [
       "{'documents': [{'Header 2': 'To set and unset fabric softener'},\n",
       "  {'Header 2': 'Hints and Tips for Eco-friendly Washing'},\n",
       "  {'Header 2': 'Operation:'}],\n",
       " 'answer': 'The provided context does not specify the exact suggested spin setting for the AI Wash program. However, it mentions that the washer dryer has multiple sensors to automatically control the washing method and operating time based on various conditions. To set the program, one would select the AI Wash program and start the operation, allowing the machine to adjust settings automatically.'}"
      ]
     },
     "execution_count": 34,
     "metadata": {},
     "output_type": "execute_result"
    }
   ],
   "source": [
    "rag_chain_with_source.invoke(\"For AI wash program what is suggested spin setting for washing?\")"
   ]
  },
  {
   "cell_type": "code",
   "execution_count": null,
   "metadata": {},
   "outputs": [],
   "source": []
  }
 ],
 "metadata": {
  "kernelspec": {
   "display_name": "Python 3 (ipykernel)",
   "language": "python",
   "name": "python3"
  },
  "language_info": {
   "codemirror_mode": {
    "name": "ipython",
    "version": 3
   },
   "file_extension": ".py",
   "mimetype": "text/x-python",
   "name": "python",
   "nbconvert_exporter": "python",
   "pygments_lexer": "ipython3",
   "version": "3.10.13"
  }
 },
 "nbformat": 4,
 "nbformat_minor": 4
}
