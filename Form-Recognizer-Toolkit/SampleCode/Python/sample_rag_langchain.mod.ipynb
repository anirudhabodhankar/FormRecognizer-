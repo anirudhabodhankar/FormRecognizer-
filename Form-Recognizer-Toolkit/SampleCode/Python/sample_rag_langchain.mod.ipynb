{
 "cells": [
  {
   "cell_type": "markdown",
   "metadata": {},
   "source": [
    "# Retrieval Augmented Generation (RAG)\n",
    "\n",
    "This notebook demonstrates an example of using [LangChain](https://www.langchain.com/) to delvelop a Retrieval Augmented Generation (RAG) pattern. It uses Azure AI Document Intelligence as document loader, which can extracts tables, paragraphs, and layout information from pdf, image, office and html files. The output markdown can be used in LangChain's markdown header splitter, which enables semantic chunking of the documents. Then the chunked documents are indexed into Azure AI Search vectore store. Given a user query, it will use Azure AI Search to get the relevant chunks, then feed the context into the prompt with the query to generate the answer.\n",
    "\n",
    "![Semantic chunking in RAG](../media/semantic-chunking-rag.png)\n"
   ]
  },
  {
   "cell_type": "markdown",
   "metadata": {},
   "source": [
    "## Prerequisites\n",
    "- An Azure AI Document Intelligence resource in one of the 3 preview regions: **East US**, **West US2**, **West Europe** - follow [this document](https://learn.microsoft.com/azure/ai-services/document-intelligence/create-document-intelligence-resource?view=doc-intel-4.0.0) to create one if you don't have.\n",
    "- An Azure AI Search resource - follow [this document](https://learn.microsoft.com/azure/search/search-create-service-portal) to create one if you don't have.\n",
    "- An Azure OpenAI resource and deployments for embeddings model and chat model - follow [this document](https://learn.microsoft.com/azure/ai-services/openai/how-to/create-resource?pivots=web-portal) to create one if you don't have."
   ]
  },
  {
   "cell_type": "markdown",
   "metadata": {},
   "source": [
    "## Setup"
   ]
  },
  {
   "cell_type": "code",
   "execution_count": 1,
   "metadata": {},
   "outputs": [],
   "source": [
    "# pip install python-dotenv langchain langchain-community langchain-openai langchainhub openai tiktoken azure-ai-documentintelligence azure-identity azure-search-documents==11.4.0b8"
   ]
  },
  {
   "cell_type": "code",
   "execution_count": 2,
   "metadata": {
    "scrolled": true
   },
   "outputs": [],
   "source": [
    "\"\"\"\n",
    "This code loads environment variables using the `dotenv` library and sets the necessary environment variables for Azure services.\n",
    "The environment variables are loaded from the `.env` file in the same directory as this notebook.\n",
    "\"\"\"\n",
    "import os\n",
    "from dotenv import load_dotenv\n",
    "\n",
    "load_dotenv()\n",
    "\n",
    "os.environ[\"AZURE_OPENAI_ENDPOINT\"] = os.getenv(\"AZURE_OPENAI_ENDPOINT\")\n",
    "os.environ[\"AZURE_OPENAI_API_KEY\"] = os.getenv(\"AZURE_OPENAI_API_KEY\")\n",
    "doc_intelligence_endpoint = os.getenv(\"AZURE_DOCUMENT_INTELLIGENCE_ENDPOINT\")\n",
    "doc_intelligence_key = os.getenv(\"AZURE_DOCUMENT_INTELLIGENCE_KEY\")"
   ]
  },
  {
   "cell_type": "code",
   "execution_count": 3,
   "metadata": {},
   "outputs": [],
   "source": [
    "from langchain import hub\n",
    "from langchain_openai import AzureChatOpenAI\n",
    "from doc_intelligence_loader import AzureAIDocumentIntelligenceLoader\n",
    "from langchain_openai import AzureOpenAIEmbeddings\n",
    "from langchain.schema import StrOutputParser\n",
    "from langchain.schema.runnable import RunnablePassthrough\n",
    "from langchain.text_splitter import MarkdownHeaderTextSplitter\n",
    "from langchain.vectorstores.azuresearch import AzureSearch"
   ]
  },
  {
   "cell_type": "markdown",
   "metadata": {},
   "source": [
    "## Load a document and split it into semantic chunks"
   ]
  },
  {
   "cell_type": "code",
   "execution_count": 4,
   "metadata": {},
   "outputs": [],
   "source": [
    "# Initiate Azure AI Document Intelligence to load the document. You can either specify file_path or url_path to load the document.\n",
    "loader = AzureAIDocumentIntelligenceLoader(file_path=\"data/BD-D100_D120GV_XGV.pdf\", api_key = doc_intelligence_key, api_endpoint = doc_intelligence_endpoint, api_model=\"prebuilt-layout\", table_max_rows=3)\n",
    "docs = loader.load()"
   ]
  },
  {
   "cell_type": "markdown",
   "metadata": {},
   "source": [
    "## split it into semantic chunks"
   ]
  },
  {
   "cell_type": "code",
   "execution_count": 5,
   "metadata": {},
   "outputs": [
    {
     "name": "stdout",
     "output_type": "stream",
     "text": [
      "Length of splits: 107\n"
     ]
    }
   ],
   "source": [
    "# Split the document into chunks base on markdown headers.\n",
    "headers_to_split_on = [\n",
    "    (\"#\", \"Header 1\"),\n",
    "    (\"##\", \"Header 2\"),\n",
    "    (\"###\", \"Header 3\"),\n",
    "]\n",
    "text_splitter = MarkdownHeaderTextSplitter(headers_to_split_on=headers_to_split_on)\n",
    "\n",
    "docs_string = docs[0].page_content\n",
    "splits = text_splitter.split_text(docs_string)\n",
    "\n",
    "tables = docs[1:]\n",
    "print(\"Length of splits: \" + str(len(splits)))"
   ]
  },
  {
   "cell_type": "markdown",
   "metadata": {},
   "source": [
    "## Embed and index the chunks"
   ]
  },
  {
   "cell_type": "code",
   "execution_count": 6,
   "metadata": {},
   "outputs": [],
   "source": [
    "# Embed the splitted documents and insert into Azure Search vector store\n",
    "\n",
    "aoai_embeddings = AzureOpenAIEmbeddings(\n",
    "    azure_deployment=\"text-embedding-ada-002\",\n",
    "    openai_api_version=\"2024-02-15-preview\",  # e.g., \"2023-12-01-preview\"\n",
    ")\n",
    "\n",
    "vector_store_address: str = os.getenv(\"AZURE_SEARCH_ENDPOINT\")\n",
    "vector_store_password: str = os.getenv(\"AZURE_SEARCH_ADMIN_KEY\")\n",
    "\n",
    "index_name: str = \"washer-index-mod\"\n",
    "vector_store: AzureSearch = AzureSearch(\n",
    "    azure_search_endpoint=vector_store_address,\n",
    "    azure_search_key=vector_store_password,\n",
    "    index_name=index_name,\n",
    "    embedding_function=aoai_embeddings.embed_query,\n",
    ")"
   ]
  },
  {
   "cell_type": "code",
   "execution_count": 7,
   "metadata": {},
   "outputs": [
    {
     "data": {
      "text/plain": [
       "['MzM5MjVlYjUtNTE5Yy00YWM2LWFiM2QtY2Q5MDU3YTcxNTQy',\n",
       " 'Yzg1MzU5ZWEtY2JjZi00MTc2LWIxMTktMDFkNDljZWNjYTBk',\n",
       " 'N2Q0MDJhZjgtOWM5NS00NmNmLTk1N2ItZGQyY2U2ZmZkZDky',\n",
       " 'NDdiNzZkNzYtZjYyMS00MzFhLThlNWMtNzcyNjUzYTk4ZTdk',\n",
       " 'MDA2OGE4NzEtOTE4NS00ODEwLTk1YzktNGNlZjg4N2VkMzI1',\n",
       " 'MWEwYmRjOWItODVlZC00ODNkLWE4ODQtZDJiZmRlM2JmZTkz',\n",
       " 'ZjVhNDIyYjgtZGMxMC00MGEyLTg5YmUtNTlkNzZmNTM1NzNm',\n",
       " 'OTg3NGM5NTItMGI5MS00ZDU3LTkxNTEtMTdlODYwNjg0Y2Jl',\n",
       " 'MGY4YjZiYjQtMGQzMi00NzFhLWFkZmMtOTA0YjNjYWFkOGZj',\n",
       " 'YmMxMTMxNzktMjJjYy00ZTE0LWIxNDItYTA5NTU1MGE1MTk2',\n",
       " 'Y2ZiNDJkMWMtZjFkMS00MDhmLWIyZDktNTY4YTAzNmQ3ZmQy',\n",
       " 'ZGYyM2YzZTYtYzRhNC00ZjA0LTk0MDMtZjZlZmJlZTMwYzYy',\n",
       " 'MWUzMjdiNjEtOTYzMS00ODRjLTgzMzctOTJlMjYyMDcyOTE2',\n",
       " 'Mjg3ZmU2OTYtYTc5MC00NDc2LTliOWItNDllYzcxMmJmOGY5',\n",
       " 'N2ZmZTA2ZTktMzE1Mi00ZmIwLTliZmYtYWQ4MTgzMmY0YWVl',\n",
       " 'MjVlYmI5MmItZTE0OC00ODJlLTllMTMtNjZjNmU4ZjI5Yzhm',\n",
       " 'YzYxOWIwMDEtZDIxNy00YWY5LWFjN2YtMmFiZmM2NGIyNmM0',\n",
       " 'NGU1YWZjYTYtNzQ0My00NzNkLWFlMDctMmI1Zjk2ZWZjNzVm',\n",
       " 'ZGNjMDViNDktYjk4My00ZjQ5LWIxZjEtYTE2ZTBjNDYwOGQ5',\n",
       " 'YWY1MjljODQtZTVlNC00OTY5LTg4OTgtODEzOTZhMjU1MDJm',\n",
       " 'N2IwYWZiYmUtNDJkZS00ZDk0LWIyYTktZDcxMjA3ZjRlYjFh',\n",
       " 'ZDIxYzg2ZDQtZmRkYi00NjYyLThkMzctMjEyZmU1ZmQ0M2Q4',\n",
       " 'MzI0MzI3MDctNDVkYi00YjRmLTllZDktMDQ3OTRkOTE3MDEx',\n",
       " 'OTljZGQyMmQtZmE4NC00ZmNhLTgxNTAtZDRlMWEwY2ZmZDVj',\n",
       " 'ZmY2MmY0YzktNjc4Zi00MTg0LWIwNTEtZjgxMzk4MjNmMzk3',\n",
       " 'NGY5MjFhNDgtNGU3NC00MDIzLWFjZDgtYjA2YzY3YzU3MTUw',\n",
       " 'NTA5M2I2NmItNjIwZS00ODAyLTllOTMtOWJmNDVlMDMzNjc4',\n",
       " 'MjE4ODAyMzUtZWQzNC00MTQ1LWFiZjMtMDAwN2M2NGE5YmFi',\n",
       " 'MzY3YTI1NmMtNWFlOS00ZmJmLTg2MzMtNTNhZjE5MDI3YmQ0',\n",
       " 'NmUxMTI3ZDEtMTdhYi00ODFlLWI3ZGItZWQ5YTY0NWIyZTdl',\n",
       " 'NmY0NDliOTctMzE4OS00NjYwLWI5NWEtMDMzN2Q2NWIyYmQ1',\n",
       " 'ZDAwNDZiMjAtOWVhOC00OTYzLTk2NjYtZTdmOTU2NzE4MzVh',\n",
       " 'YWRlYWQxYzQtOWQ4Ny00Y2Y0LWEyODUtZmU0YTA5MDZlYTVi',\n",
       " 'MjI4ZDIyMGMtZmYxMy00YmJkLWI5YzgtMGY4MjgzMjM4ZmYx',\n",
       " 'YWUwZjIwNWEtMjgwMS00ZDVjLTk5YjktZWM0MDFmMDA2Y2Rh',\n",
       " 'MWRlOGYzOWYtYjViZC00Mzc3LWJjYmItYTlhMWI5ZTEwMTBh',\n",
       " 'ODMwZGQxNDItNmYxZi00ZGQ3LWEwNTAtZGE0NTgwNmU3N2E2',\n",
       " 'OWY4ZDE1Y2MtNmU3My00YmI4LWEyN2MtNzU5ZmI5MGJmNDBh',\n",
       " 'ZjJiYWMzNDQtODNiNi00ZmViLTk1NTktNTJiZmVlNjkxNGQ4',\n",
       " 'ZGYzYjYyMWQtMDgwYi00NjA4LTgyMGMtNGFmNWQ0ZjBhZjJk',\n",
       " 'ZmU2MGQwZDgtZWUxMS00OTk2LWI0MTQtNTRkM2E1NmRhOGIx',\n",
       " 'Yzc4M2IxMmItODhhNi00NjVlLWEwZGQtZjRkMGQ1NThjYzU5',\n",
       " 'YTI5YzM4NGUtYTY1Yy00ZDk0LTlmNWEtNWYyYjk2ODczZWJh',\n",
       " 'NjM4MjIxODMtYzQxNC00ZDc4LWJlYzItMjBjNGQ0ZDc2M2Mw',\n",
       " 'MWM3NDA1Y2EtY2YyMC00ZDVhLThmYzItYzgwNWE1ZTMxZWI5',\n",
       " 'ZmUzZWFlN2QtMDcwMS00Nzc0LTg2ZDItYmJjMGFkNzFhNDM0',\n",
       " 'NjgwMGI4ZjEtZTQyZC00OWE0LWEyYzEtMjBkYzQ1MmUxNDcz',\n",
       " 'YWM3MzU0M2ItODNjMC00ODg0LThjZDktMDVjMGU1MTc0Njhl',\n",
       " 'NTM1NThlMTktMjU1NS00MTZiLTgxOGUtN2JkZGJkMDg0ZjJk',\n",
       " 'N2NjNjE1NjQtMzM0Ny00MDhiLThmZWEtZDFkNjY1MzI3NzEy',\n",
       " 'NTUyNjRmOGYtYjQ2Yy00NGM2LTk5ZTctZmE1ZmFhMjE2ZTAy',\n",
       " 'YzgwOWI0NGMtNjE4Mi00ODczLThhOTItNWE1ZDQ2NmQ1MDFk',\n",
       " 'NzQxZTgxODctNjhiNC00ZmRmLWJhYmQtOWYxNWRjNDQwODY0',\n",
       " 'ODIxZjI2Y2QtY2Q5Ny00ODJlLTg3NWQtOWUwZDUyOTIwYjk2',\n",
       " 'NDNiY2VhYmMtNWJjZC00Y2RiLWI3YWMtYTNiZDkxNjliZDNi',\n",
       " 'NTE4NTgxNDQtZDZlYS00ZjVlLWFhYmEtMGNlNzAzYTM5NWU0',\n",
       " 'YmM5MjUxNjEtM2ViYS00ODVjLTgzNTMtMzMxNjVkMjRjYTY1',\n",
       " 'MzI0NWY3NGMtMDAwNi00MGE5LTk0NjctZGE3MDA3ODQ2M2Rm',\n",
       " 'ZTM5MzhhMTgtM2MzNS00NTJjLWIyY2MtMjE0NTliNDFlYjc5',\n",
       " 'Y2RjNWM2ODYtMDkzNS00ZTliLTgwYTUtM2NmNmEyYjY4NGYx',\n",
       " 'MTdlMjM3Y2QtZDk5NC00M2EwLWFjYmYtNTg5ODQxN2IxMGMx',\n",
       " 'NWU3ZWZkNTUtM2JkMy00MjUzLWEyZGYtY2ViOTFlMWNiMmFh',\n",
       " 'OGIzZTg3ZjktNDY3OC00MjJlLTljODQtM2VjNzNlNTQ1ZDY1',\n",
       " 'MzA4ODU2ZWQtYjJkMy00YzliLTg3ZTgtNDY3MDBjNjQ1YWQ0',\n",
       " 'YWQ3MGEyZmUtOTA0Mi00M2M3LWE5ZjAtODQ1NmM1NTAxNWU4',\n",
       " 'ZTIxNmYzNTktOGMwYi00MDUxLWFiYmYtYTBiMWYzZGFjYjky',\n",
       " 'NWI1MTBlZjgtMTg2MS00YTNmLTlmYjgtYTJiMDkzMTAxNmMx',\n",
       " 'YTMxMTQzNGQtYTA1MC00YmM4LWFiODktMTQ2OGZlOTIzOTUy',\n",
       " 'MWU2NzFjZTctNmFlMy00ODYyLTk3ZGItN2Q4MzY1ZTM0NzA1',\n",
       " 'MzNkZjMwN2ItN2E1Ny00OGQyLTgyYWQtMmYwYjRhZWNmYzc3',\n",
       " 'ODk1MjUzNmItMTQ3Yy00YzYzLWJjMzQtNTFlOGQ2YjRlY2Yx',\n",
       " 'YWRmMjE4M2ItYzYzZS00NzQ2LWIxMmEtZWRlNDBmOWMzYTYy',\n",
       " 'ZWI0MjVmYmQtM2Y3Mi00YWRmLTgxODktZWNhZmJhY2EwOGY3',\n",
       " 'Y2I2NDk2ODItODg0MS00NmE2LTlmYjQtMDNkNDVhYTE4MTk0',\n",
       " 'YTAwNDBlMDMtMmE2Ny00NWY0LWI5MmYtNDJmNzBmY2EwMTA1',\n",
       " 'MjNhMDc3ZWMtM2ZlNi00YzgyLWI4ZjktNDA0NzA0OGJkNTE0',\n",
       " 'ZGQxZWZhOTItZjYwNi00OTZkLTgzMmYtMWNhZTdjMjlhZGNh',\n",
       " 'MGE0MDRlNTktMzg0Ni00OTY5LWIxMWQtMGZiMWI1NjhhOTQx',\n",
       " 'NzQxNDI4ZDMtNDQzMy00YjNhLWI4Y2YtODJhZDZlNjY0YmFl',\n",
       " 'MDYzZDhmZDItODc0Ni00MDA5LWE5MjktZTkwODljMmYzYjY5',\n",
       " 'NDgyMWM2ZTMtZTEzNy00M2VmLTgzZTYtNzAxMzY0OGM3NTZl',\n",
       " 'NmYyOGNmNDYtNTAxYi00MDQyLWFhZjItZGZlYzM3ZWFhOGM2',\n",
       " 'YmFjMDBhMWMtN2FkNC00YThlLWI1NmEtNTU1ZjRjYThhYWJm',\n",
       " 'M2VjZDE3ZTgtODJiOS00M2E1LWIzNzctZTVlNWVjYzIwZThm',\n",
       " 'YWM2NTViYmItYjhkYy00OGZmLTkxMmEtNzYyNTE4NDM3NzAx',\n",
       " 'Mjg2Y2FmMTUtZjQ3NC00Y2I0LTkxOGMtYWNiODQzZGZiNzM4',\n",
       " 'MjAyYzA3ODktOTU2MC00Y2I0LWE1NjMtNDYyOWI3Yzc5NWRl',\n",
       " 'MmUwOGM4NjQtZmI4MC00M2M2LWIxMDEtZmQ3MjYyMWMyMDdj',\n",
       " 'NWY0ZTg0OGItNTZlYi00NDE2LWEzZWEtZWYwNDdlOGNkMjFl',\n",
       " 'MGI3NmI3ODAtOTliZC00ZDJkLTk0ODctOTU2MjExYzZlZTVi',\n",
       " 'MWY4MzdjNDYtNjYyMS00ODZkLTlkYjMtNmFhZGVjMjBlYjdh',\n",
       " 'Mzc2NjUzNWQtYTBhMy00OGYzLTkyNmItN2FlZDBhNmY3YjBl',\n",
       " 'NzQ2MDNlNzctNjk0OC00NjQ4LWI5YTYtYWUyNDdjNTVmYTVl',\n",
       " 'ZTAzNGYzZjUtMWEzMS00YjI4LTg1NDUtZmRjNjg4NGI3ZDQx',\n",
       " 'YjBjMWQ1OWEtYjQxMi00MGE1LTg5NzktZjY0ZWIzNjY4YjYw',\n",
       " 'ZjM5MmYzZDUtNWE1ZS00YWI4LWJjZjMtNjY5ODI1N2Q4YTU5',\n",
       " 'Njg3MDI1ODItNmExOC00ZGQxLWJlMWYtNTgxZGVkMTlmZjg0',\n",
       " 'YmE3ZTI5NjAtNGYxNC00ZWNmLWJlMDktMjU5NmNhNGJkMmJh',\n",
       " 'Yjc4MjRmNjItMWU3Ni00NTIzLWEwMzktOTNmYjA3NjUyYjJh',\n",
       " 'OGU3MGIxNjYtMDc0YS00NWY1LWE4ODUtYmIzNjFmOTJlNmNj',\n",
       " 'MmE5YzBkYWYtMWE0MS00YWE2LWJhMTQtOTY1YTZlZjE0NmE5',\n",
       " 'N2NlZTRmN2YtYzIwMS00NzY5LTlkZGEtYTA5M2FkMGE0MTg2',\n",
       " 'ZDliMjkxMjItM2YzYy00MjYyLWEzNDctY2M4MjNlNWE5Njhl',\n",
       " 'Y2Y4NzFmMGItZTk2ZS00YWQxLWFmZjYtOTM1Yjc3NTA3MGIy',\n",
       " 'MDg3ZGQxOTctNTE4ZS00Mzc5LWFlMWEtYzI5MWVlYmI5NTkx',\n",
       " 'ZGU5YTE1ZTgtMmMzOS00M2ZhLTliMmYtNjcwMTMwNDljMDk4',\n",
       " 'ZTlmNmZjNzktNTllMy00ZTJkLThmZGItNjBiYTAxNjc5MTY4']"
      ]
     },
     "execution_count": 7,
     "metadata": {},
     "output_type": "execute_result"
    }
   ],
   "source": [
    "vector_store.add_documents(documents=splits)"
   ]
  },
  {
   "cell_type": "code",
   "execution_count": 8,
   "metadata": {},
   "outputs": [
    {
     "data": {
      "text/plain": [
       "['MTFmYTY2NzgtZGU5Yi00MDM3LWFiY2ItODYyOWI3ZWIzZjRl',\n",
       " 'MTI3NzQ0MGEtYTM5NC00NzRmLWI0MzYtZTU1YmIxNDc4MTcw',\n",
       " 'ZmQ0ZTMzODQtMDQ1YS00OTA2LWIyN2YtYWY0ZGJiZGYzN2Uz',\n",
       " 'YzViZDA3OTAtMjE5Yy00YjIzLTg5YmUtOWQ5NjU4NWQ1NWIw',\n",
       " 'NGFhZjViZDYtOGYyNy00YzVhLTg5NmUtMTkwM2FlYTY5MTkx',\n",
       " 'YThiMzExNDctYWY5ZC00NWNlLTk5NWItNDZkNTk0MGNkYTcx',\n",
       " 'NjI2NWJhOGYtYzFkNy00N2E3LTg1ZWQtNzM3ODllZmUzMWEy',\n",
       " 'N2RhZmEzYTUtZTVmNC00MTgwLWFkMGMtNTg4ZmRmZDhhMTIy',\n",
       " 'OGRlNTc1OTktYjIwZC00NDAwLTlhNjYtYWExY2ZjOTBkNmU2',\n",
       " 'YTRhNzhmOTItMDM2OS00YWVjLWIzZTctN2QzNDg4ZDBiNGJm',\n",
       " 'YmRiNDhhNDYtOWQ1MS00MjNlLWExNDUtNTMzYTIzZjcwOWVi',\n",
       " 'ZTZhMmUwZTYtOThkMS00M2I1LThlMWUtMjk3YmNiZGY0OWVh',\n",
       " 'NTAyOTFiMjMtZTJlOS00MDI0LWEyYmMtNWM4NTQ5YWQwMjZh',\n",
       " 'NmUxODY0MWUtNGM5My00MWM2LWFhZGUtY2M4MjUwODg4NDQ2',\n",
       " 'ODEzZTM0ZWEtYWZjMy00MDk0LThmYWYtMTk5Mjc3ZjQ5NjUz',\n",
       " 'YzYxMzc3MjEtN2I4NC00ZDk2LWFkNDEtZjNmMTFkYmY1ODk5',\n",
       " 'ODJkNTQwMmUtNGU5Ni00MjA3LWI3MjUtMGQwYTU4ZDI5OWJh',\n",
       " 'NGFjMjA1ZTYtYjY4Mi00NzNiLTgyNTMtZjNjOWU3Yzc2ZmZi',\n",
       " 'YzNjZTM3YTMtNzk2ZC00ZTRkLTg4ZGQtMzBjZDFhNjQ1NWVi',\n",
       " 'ODg0MGNkMDAtNjg1NS00ZjMyLTk5ZTEtYmVmN2EzYmEzZDY2',\n",
       " 'Yjk0MTI2YTUtMWQ0YS00MzQ5LThmNGYtNjZiNTI1NGQ1NjE0',\n",
       " 'ZTcyMDZhYjItYzE3Ny00YmFiLWIzMWQtOTE1Nzg1OGEwMzA5',\n",
       " 'ZmNjOTc1MjItODMzMy00MjExLTg1NmItZDEzNjljYmEyN2Iz',\n",
       " 'OWI5MzNhZTUtMGI1OC00MDVmLWI2YjMtM2E4MGU4OTQ4YWQ5',\n",
       " 'NzkxNjcxMTctOGI2MS00YWJhLThhMjEtYTJhNjViNDkxMDk5',\n",
       " 'NTI1Nzk1MTYtOGJjYi00YWI3LTk4M2UtOTc4NWVkNWMwNmFm',\n",
       " 'MzFhOGNkOTktMDJlYS00OGU0LWIwNzUtMGE2NzIwZjdhY2Jk',\n",
       " 'NGQ4OGRjOGUtZTU2MC00N2ZlLWEyOWUtMTRmODE0YjFlZmNk',\n",
       " 'MGE5Y2M2ZGMtMTE2OS00NGQ3LWI1NjMtODE2NDJlZTQyNzRk',\n",
       " 'ZWVmOTIzODAtMmQwYi00MDI0LWEzYzAtNjU1NDQ1YjZkMjJj',\n",
       " 'MmE1YmE0NjgtNjJhYi00OTU3LTgzNGYtZjkyMjdiYWRjMjg4',\n",
       " 'YmZhOWRhN2MtYTYxNi00NjEwLWE2YzgtYjc5YWQ3OGRlOGZm',\n",
       " 'NDBhYTZjMDUtZjMyYi00YzlhLWFlYjUtMzVkYWY2MjYyMTFl',\n",
       " 'YWJhZDNkZTMtNmFjZC00NjU3LWE4NGItNzU0Nzc5NDVhOThj',\n",
       " 'MzAzMDY2YTMtZjAwYi00YmIzLTkyMWYtMzNjNWRkYjUxODRh',\n",
       " 'NDQ2OTEwZDMtYTA4ZS00Y2Y0LWJiNmItYTM0MzVlOTNlMWRh',\n",
       " 'ZjRhYTQ4NjctZjNhYS00ODExLTkwZjEtZDMzMDRmYTM5ODkz',\n",
       " 'NTY3YmUyYjMtYjI3NC00MjAxLThmNjctZDliNjY5MTQ5MTQ0',\n",
       " 'ZDIxOWJiODctNjFmYS00ZGY0LWJiYTctODY3OGRiOTQ3OGRk',\n",
       " 'MDI4NTQ3NzEtY2QxMy00ZTQxLWJjODUtMmZmNDdiMjY1NTg4',\n",
       " 'NTJmNGU2YWMtZTMyNS00MGQzLTg3NDAtZDE0OTdhOWUyNGRi',\n",
       " 'MDA1YjEyNWYtYmE5YS00YzhlLTk0OGYtZDc3ZWQ5ZDBjM2U0',\n",
       " 'MjY2M2ZmNmItNDY1Ny00OGM4LTk1MWItZDQ4M2FiOTUyNjc1',\n",
       " 'ODcwZDc3NTMtOGJkYi00NWMyLWI3NzctMGZlOGUyOTIzOWUx',\n",
       " 'NzdmN2YxMjItNDhlNC00YTE1LWI4ZGQtYzhjNjRkZDliM2Vl',\n",
       " 'NTc4NWYzNTItNDAxZC00N2RjLWE0MWQtNzAzMjdjZGJmMmNh',\n",
       " 'M2U5MTFkOWItZjFlOC00MTNlLWEzZjUtNTA1MzY1YTVlMGJm',\n",
       " 'NTdiMjg1MDAtZTQ0OS00NjhmLTk5ZGItYmNiNTQ0YWQ2NTMz',\n",
       " 'NTg4NDFiNzMtZmU3ZC00NTczLTkxMjAtNDQxZjI0MjEwNzZi',\n",
       " 'Yzk4YTEzYTEtMDhlOC00Nzg3LWE0NjktZWMxNmQ5MGMwYTQ1',\n",
       " 'NzFkNWZlZDYtODc4Mi00ZGY3LWEzOWYtYmJkOTZhNjNmOTFk',\n",
       " 'MDkxZTQ0NmQtNjQ4Zi00MjhlLTg3ODQtOTU5YTQ4YmUzNWQ3',\n",
       " 'YWFlYTEzYTAtYzQwYi00OGE4LWEyMjItZDU0NDUyMTZkZDRh',\n",
       " 'YjQ1OWUyY2ItZmYzMi00NTU0LTk4ZmItMWRkNTBiZGQ4YjIy',\n",
       " 'ZmU5OWZjZDktY2RkYS00M2EwLTkzNGUtMzExOTRiM2I3NDY2',\n",
       " 'NGU5NGIzMDMtMmI0Yy00NzgzLWEzY2YtNTljZGI3NjQzZTQ4',\n",
       " 'OTkyZmE4ODQtY2E2Ni00ZmU2LWE3NDUtN2U5OTZlNzMwOGUx',\n",
       " 'MDVkNjQ4MmUtOGU0ZS00ZGY3LWI3NzktYjk4MGI4MDg0MjY5',\n",
       " 'YmNiNjQ1ZWUtNDAxYi00OTUyLTlhMzUtMTVmZTlhOGUwYjQ1',\n",
       " 'ZTZkZWQ1ZWQtMDhkYS00ODBiLWE4ZWYtZDQyMjcwZGZjNmMz',\n",
       " 'Y2RmZjU3ODYtYzA5Yy00NDkwLThiZWYtMjg3OWE4YmI5NWUx',\n",
       " 'ZTE5YmIzYTEtZjJhNi00YzczLTlmYmYtN2Y4Y2Q4NzcxYzQ5',\n",
       " 'YTFlM2RkYTUtMmQ4ZS00NjQzLWFmMjktODFmNmI5YTI3YjA1',\n",
       " 'NWYwNGI5NTMtZWY1Yy00YzEwLWE0MzQtOTI2ZmVjMjhhMGFh']"
      ]
     },
     "execution_count": 8,
     "metadata": {},
     "output_type": "execute_result"
    }
   ],
   "source": [
    "vector_store.add_documents(documents=tables)"
   ]
  },
  {
   "cell_type": "markdown",
   "metadata": {},
   "source": [
    "## Retrive relevant chunks based on a question"
   ]
  },
  {
   "cell_type": "code",
   "execution_count": 34,
   "metadata": {},
   "outputs": [
    {
     "name": "stdout",
     "output_type": "stream",
     "text": [
      "\n",
      "\n",
      "| Program | Type of Laundry / Notes | Model / Max Load | Temperature Setting | Spin Setting | Selectable Options |\n",
      "| --- | --- | --- | --- | --- | --- |\n",
      "| BD-D120XGV/BD-D120GV | BD-D100XGV/BD-D100GV | Washing | Washing- Drying | U Prewash | Rinse Count | Rinse Hold | Timer | Auto Self Clean | Wash/Dry Mode | Dry Option | Time Dry |\n",
      "| Washing | Washing- Drying | Drying | Washing | Washing- Drying | Drying | Washing | Washing- Drying | Drying |\n",
      "| Tub Wash | This program is used when you are worried about dirt and odors on the drum. Please do not put laundry. | - | - :unselected: | - :unselected: | - :unselected: | - :unselected: | – :unselected: | – :unselected: | 1200 r/min | – :unselected: | - :unselected: | - :unselected: | - :unselected: | - :unselected: | - :unselected: | O :selected: | - :unselected: | - :unselected: | – :unselected: | – :unselected: |\n",
      "| Rinse & Spin (\\*) (When use BD-D120XGV/ BD-D100XGV Please download the program from the application.) | This program is used to rinse and spin laundry. | 12 kg | 8 kg (Low Temp. 4 kg) | – | 10 kg | 7 kg (Low Temp. 4 kg) | – :unselected: | – :unselected: | 400-1600 r/min No Spin | 1200-1600 r/min | – :unselected: | O :unselected: | O :unselected: | – :unselected: | O :unselected: | O :unselected: | :unselected: O | – :unselected: | O :unselected: | O :unselected: |\n",
      "| Synthetic (\\*) (For model BD-D120XGV/ BD-D100XGV only) | This program is used when you want to wash synthetic type laundry. | 4.5 kg | 4.5 kg | 4.5 kg | 4.5 kg | 4.5 kg | 4.5 kg | Cold/ 30-60℃ | 400-1600 r/min No Spin | 1200-1600 r/min | :unselected: O | :unselected: | :unselected: O | :unselected: O | :unselected: O | :unselected: O | O :unselected: | :unselected: O | – :unselected: | O :unselected: |\n",
      "\n",
      "\n"
     ]
    }
   ],
   "source": [
    "# Retrieve relevant chunks based on the question\n",
    "\n",
    "retriever = vector_store.as_retriever(search_type=\"similarity\", search_kwargs={\"k\": 3})\n",
    "\n",
    "retrieved_docs = retriever.get_relevant_documents(\n",
    "    \"For AI wash what is suggested spin setting for washing?\"\n",
    ")\n",
    "\n",
    "print(retrieved_docs[0].page_content)"
   ]
  },
  {
   "cell_type": "markdown",
   "metadata": {},
   "source": [
    "## Document Q&A"
   ]
  },
  {
   "cell_type": "code",
   "execution_count": 35,
   "metadata": {},
   "outputs": [
    {
     "data": {
      "text/plain": [
       "'Based on the provided context, you should not attempt to repair the appliance on your own. The instructions explicitly advise against dismantling, repairing, or modifying the appliance, as it could lead to malfunction, fire, electric shock, or injury. For repairs, you are instructed to contact your local service center.'"
      ]
     },
     "execution_count": 35,
     "metadata": {},
     "output_type": "execute_result"
    }
   ],
   "source": [
    "# Ask a question about the document\n",
    "# Use a prompt for RAG that is checked into the LangChain prompt hub (https://smith.langchain.com/hub/rlm/rag-prompt?organizationId=989ad331-949f-4bac-9694-660074a208a7)\n",
    "prompt = hub.pull(\"rlm/rag-prompt\")\n",
    "llm = AzureChatOpenAI(\n",
    "    openai_api_version=\"2024-02-15-preview\",  # e.g., \"2023-12-01-preview\"\n",
    "    azure_deployment=\"gpt-4-turbo\",\n",
    "    temperature=0,\n",
    ")\n",
    "\n",
    "\n",
    "def format_docs(docs):\n",
    "    return \"\\n\\n\".join(doc.page_content for doc in docs)\n",
    "\n",
    "\n",
    "rag_chain = (\n",
    "    {\"context\": retriever | format_docs, \"question\": RunnablePassthrough()}\n",
    "    | prompt\n",
    "    | llm\n",
    "    | StrOutputParser()\n",
    ")\n",
    "\n",
    "rag_chain.invoke(\"can i repair the appliance on my own?\")"
   ]
  },
  {
   "cell_type": "markdown",
   "metadata": {},
   "source": [
    "## Doucment Q&A with references"
   ]
  },
  {
   "cell_type": "code",
   "execution_count": 36,
   "metadata": {},
   "outputs": [
    {
     "data": {
      "text/plain": [
       "{'documents': [{'Header 2': 'General safety'},\n",
       "  {'Header 2': 'Customer Service'},\n",
       "  {'Header 2': 'Installation'}],\n",
       " 'answer': 'Based on the provided context, you should not attempt to repair the appliance on your own. The instructions explicitly advise against dismantling, repairing, or modifying the appliance, as it could lead to malfunction, fire, electric shock, or injury. For repairs, you are instructed to contact your local service center.'}"
      ]
     },
     "execution_count": 36,
     "metadata": {},
     "output_type": "execute_result"
    }
   ],
   "source": [
    "# Return the retrieved documents or certain source metadata from the documents\n",
    "\n",
    "from operator import itemgetter\n",
    "\n",
    "from langchain.schema.runnable import RunnableMap\n",
    "\n",
    "rag_chain_from_docs = (\n",
    "    {\n",
    "        \"context\": lambda input: format_docs(input[\"documents\"]),\n",
    "        \"question\": itemgetter(\"question\"),\n",
    "    }\n",
    "    | prompt\n",
    "    | llm\n",
    "    | StrOutputParser()\n",
    ")\n",
    "rag_chain_with_source = RunnableMap(\n",
    "    {\"documents\": retriever, \"question\": RunnablePassthrough()}\n",
    ") | {\n",
    "    \"documents\": lambda input: [doc.metadata for doc in input[\"documents\"]],\n",
    "    \"answer\": rag_chain_from_docs,\n",
    "}\n",
    "\n",
    "rag_chain_with_source.invoke(\"can i repair the appliance on my own?\")"
   ]
  },
  {
   "cell_type": "code",
   "execution_count": 37,
   "metadata": {},
   "outputs": [
    {
     "data": {
      "text/plain": [
       "{'documents': [{'Header 2': 'General safety'},\n",
       "  {'Header 2': 'Safety Instructions'},\n",
       "  {'Header 2': 'Interior lighting setting (For model BD-D120XGV/BD-D100XGV)',\n",
       "   'Header 3': 'Emergency door release.'}],\n",
       " 'answer': \"The provided context does not specify the weight of the appliance or whether it is designed to be lifted with one hand. Therefore, based on the information given, I cannot determine if you can lift the appliance with one hand. It is generally recommended to follow the manufacturer's guidelines for moving appliances to avoid injury or damage.\"}"
      ]
     },
     "execution_count": 37,
     "metadata": {},
     "output_type": "execute_result"
    }
   ],
   "source": [
    "rag_chain_with_source.invoke(\"can i lift the appliance with one hand?\")"
   ]
  },
  {
   "cell_type": "code",
   "execution_count": 38,
   "metadata": {},
   "outputs": [
    {
     "data": {
      "text/plain": [
       "{'documents': [{'header_text': ['Cover Caps',\n",
       "    'Either type of water supply hose is packed in by the demand of different area.',\n",
       "    'Hose Guide',\n",
       "    'Packed-In Accessories',\n",
       "    'Spanner'],\n",
       "   'page': [3],\n",
       "   'row_count': 3,\n",
       "   'column_count': 5,\n",
       "   'type': 'table'},\n",
       "  {'Header 2': 'Hose and cable length'},\n",
       "  {'Header 2': '1', 'Header 3': '2'}],\n",
       " 'answer': 'The water supply hose is typically located on the left side of the appliance, as indicated by the provided context. It can be connected using either a one-touch joint or a screw type, depending on the region, and is included as a packed-in accessory with the appliance. To access the hose, you may need to disconnect it by turning the union nut in the direction indicated in the instructions.'}"
      ]
     },
     "execution_count": 38,
     "metadata": {},
     "output_type": "execute_result"
    }
   ],
   "source": [
    "rag_chain_with_source.invoke(\"where is water supply hose located?\")"
   ]
  },
  {
   "cell_type": "code",
   "execution_count": 39,
   "metadata": {},
   "outputs": [
    {
     "data": {
      "text/plain": [
       "{'documents': [{'header_text': ['Check here', 'In this case'],\n",
       "   'page': [60, 61, 62, 63],\n",
       "   'row_count': 34,\n",
       "   'column_count': 2,\n",
       "   'type': 'table'},\n",
       "  {'Header 2': '5\\\\. Proceed to connect (pairing) the washer dryer to your smartphone.'},\n",
       "  {'header_text': ['Check here', 'In this case'],\n",
       "   'page': [60, 61, 62, 63],\n",
       "   'row_count': 34,\n",
       "   'column_count': 2,\n",
       "   'type': 'table'}],\n",
       " 'answer': 'To pair the appliance with your phone, first ensure your smartphone is connected to the correct 2.4GHz Wi-Fi network. Then, follow the \"Simple connection\" process by operating the app on your smartphone, tapping \"Pairing,\" selecting \"Easy Connection,\" and following the on-screen instructions to connect the washer dryer to your Wi-Fi router. If \"Pr 1\" does not flash on the washer dryer, press the \"Remote\" button, and ensure the communication lamp on the washer dryer changes from flashing to lit to confirm successful pairing.'}"
      ]
     },
     "execution_count": 39,
     "metadata": {},
     "output_type": "execute_result"
    }
   ],
   "source": [
    "rag_chain_with_source.invoke(\"How do i pair the appliance with phone?\")"
   ]
  },
  {
   "cell_type": "code",
   "execution_count": 47,
   "metadata": {},
   "outputs": [
    {
     "data": {
      "text/plain": [
       "{'documents': [{'header_text': ['Auto Self Clean',\n",
       "    'BD-D100XGV/BD-D100GV',\n",
       "    'BD-D120XGV/BD-D120GV',\n",
       "    'Dry Option',\n",
       "    'Drying',\n",
       "    'Drying',\n",
       "    'Drying',\n",
       "    'Model / Max Load',\n",
       "    'Program',\n",
       "    'Rinse Count',\n",
       "    'Rinse Hold',\n",
       "    'Selectable Options',\n",
       "    'Spin Setting',\n",
       "    'Temperature Setting',\n",
       "    'Time Dry',\n",
       "    'Timer',\n",
       "    'Type of Laundry / Notes',\n",
       "    'U Prewash',\n",
       "    'Wash/Dry Mode',\n",
       "    'Washing',\n",
       "    'Washing',\n",
       "    'Washing',\n",
       "    'Washing',\n",
       "    'Washing- Drying',\n",
       "    'Washing- Drying',\n",
       "    'Washing- Drying',\n",
       "    'Washing- Drying'],\n",
       "   'page': [36, 37, 38, 39],\n",
       "   'row_count': 24,\n",
       "   'column_count': 21,\n",
       "   'type': 'table'},\n",
       "  {'Header 2': 'To set and unset fabric softener'},\n",
       "  {'Header 2': 'Hints and Tips for Eco-friendly Washing'}],\n",
       " 'answer': 'The max load for the AI Wash program for washing is 12 kg, and for drying, it is 8 kg. If drying at a low temperature, the max load is reduced to 4 kg.'}"
      ]
     },
     "execution_count": 47,
     "metadata": {},
     "output_type": "execute_result"
    }
   ],
   "source": [
    "rag_chain_with_source.invoke(\"what is max load for AI wash program for washing and drying?\")"
   ]
  },
  {
   "cell_type": "code",
   "execution_count": 49,
   "metadata": {},
   "outputs": [
    {
     "data": {
      "text/plain": [
       "{'documents': [{'Header 2': 'To set and unset fabric softener'},\n",
       "  {'Header 2': 'Hints and Tips for Eco-friendly Washing'},\n",
       "  {'Header 2': 'Operation:'}],\n",
       " 'answer': 'The AI Wash program is designed for washing your usual laundry. It automatically adjusts the washing method and operating time based on various factors such as the type of detergent, type of clothing, water hardness, and load size. You should keep to the load limit specified for your model, which is 12 kg for model BD-D120XGV/BD-D120GV and 10 kg for model BD-D100XGV/BD-D100GV.'}"
      ]
     },
     "execution_count": 49,
     "metadata": {},
     "output_type": "execute_result"
    }
   ],
   "source": [
    "rag_chain_with_source.invoke(\"what type of laundry i can use for AI wash program?\")"
   ]
  },
  {
   "cell_type": "code",
   "execution_count": 48,
   "metadata": {},
   "outputs": [
    {
     "data": {
      "text/plain": [
       "{'documents': [{'header_text': ['Auto Self Clean',\n",
       "    'BD-D100XGV/BD-D100GV',\n",
       "    'BD-D120XGV/BD-D120GV',\n",
       "    'Dry Option',\n",
       "    'Drying',\n",
       "    'Drying',\n",
       "    'Drying',\n",
       "    'Model / Max Load',\n",
       "    'Program',\n",
       "    'Rinse Count',\n",
       "    'Rinse Hold',\n",
       "    'Selectable Options',\n",
       "    'Spin Setting',\n",
       "    'Temperature Setting',\n",
       "    'Time Dry',\n",
       "    'Timer',\n",
       "    'Type of Laundry / Notes',\n",
       "    'U Prewash',\n",
       "    'Wash/Dry Mode',\n",
       "    'Washing',\n",
       "    'Washing',\n",
       "    'Washing',\n",
       "    'Washing',\n",
       "    'Washing- Drying',\n",
       "    'Washing- Drying',\n",
       "    'Washing- Drying',\n",
       "    'Washing- Drying'],\n",
       "   'page': [36, 37, 38, 39],\n",
       "   'row_count': 24,\n",
       "   'column_count': 21,\n",
       "   'type': 'table'},\n",
       "  {'header_text': ['Auto Self Clean',\n",
       "    'BD-D100XGV/BD-D100GV',\n",
       "    'BD-D120XGV/BD-D120GV',\n",
       "    'Dry Option',\n",
       "    'Drying',\n",
       "    'Drying',\n",
       "    'Drying',\n",
       "    'Model / Max Load',\n",
       "    'Program',\n",
       "    'Rinse Count',\n",
       "    'Rinse Hold',\n",
       "    'Selectable Options',\n",
       "    'Spin Setting',\n",
       "    'Temperature Setting',\n",
       "    'Time Dry',\n",
       "    'Timer',\n",
       "    'Type of Laundry / Notes',\n",
       "    'U Prewash',\n",
       "    'Wash/Dry Mode',\n",
       "    'Washing',\n",
       "    'Washing',\n",
       "    'Washing',\n",
       "    'Washing',\n",
       "    'Washing- Drying',\n",
       "    'Washing- Drying',\n",
       "    'Washing- Drying',\n",
       "    'Washing- Drying'],\n",
       "   'page': [36, 37, 38, 39],\n",
       "   'row_count': 24,\n",
       "   'column_count': 21,\n",
       "   'type': 'table'},\n",
       "  {'Header 2': 'To set and unset fabric softener'}],\n",
       " 'answer': 'For the AI Wash program, the suggested spin setting is 400-1600 r/min with an option for no spin.'}"
      ]
     },
     "execution_count": 48,
     "metadata": {},
     "output_type": "execute_result"
    }
   ],
   "source": [
    "rag_chain_with_source.invoke(\"For AI wash program what is suggested spin setting for washing?\")"
   ]
  },
  {
   "cell_type": "code",
   "execution_count": null,
   "metadata": {},
   "outputs": [],
   "source": []
  },
  {
   "cell_type": "code",
   "execution_count": null,
   "metadata": {},
   "outputs": [],
   "source": []
  },
  {
   "cell_type": "code",
   "execution_count": 52,
   "metadata": {},
   "outputs": [
    {
     "name": "stdout",
     "output_type": "stream",
     "text": [
      "[Document(page_content='Keep to the load limit of each program.  \\nYour washer dryer automatically adjusts the operating time and amount of water of each program depending on the load.  \\nYou only need to use the Prewash options if your laundry is heavily soiled.  \\nAdd detergent according to the degree of soiling, laundry size and water hardness, and follow the detergent manufacturer\\'s instructions.  \\nUsing the Cotton program with water temperature at 60℃ setting instead of the Cotton program with water temperature at 90℃ will save energy, and will remove ordinary stains. Better still, in areas where the temperature is high, you can remove ordinary stains without using hot water by setting \\'Cold\\' programs for more economically friendly operation.  \\n1 CAUTION  \\n<figure>  \\n![](figures/3)  \\n</figure>  \\nThis symbol shows that the Operation Manual should be read carefully.  \\n<!-- PageNumber=\"2\" -->  \\n<!-- PageHeader=\"Parts and Accessories\" -->', metadata={'Header 2': 'Hints and Tips for Eco-friendly Washing'}), Document(page_content='\\n\\n| Program | Type of Laundry / Notes | Model / Max Load | Temperature Setting | Spin Setting | Selectable Options |\\n| --- | --- | --- | --- | --- | --- |\\n| BD-D120XGV/BD-D120GV | BD-D100XGV/BD-D100GV | Washing | Washing- Drying | U Prewash | Rinse Count | Rinse Hold | Timer | Auto Self Clean | Wash/Dry Mode | Dry Option | Time Dry |\\n| Washing | Washing- Drying | Drying | Washing | Washing- Drying | Drying | Washing | Washing- Drying | Drying |\\n| Rapid 15 | This is a program for your lightly soiled laundry in a short time. | 2 kg | – :unselected: | – | 2 kg | – :unselected: | – :unselected: | Cold/30℃ | 400-1200 r/min No Spin | – :unselected: | – :unselected: | \\\\_ :unselected: | O :unselected: | – :unselected: | – :unselected: :unselected: | O :selected: | - :unselected: | - :unselected: | – :unselected: | – :unselected: |\\n| 60°C Hygiene | This program used when you want to sterilize cotton laundry or when you want to reduce allergens. | 4 kg | 4 kg | – :unselected: | 4 kg | 4 kg | – :unselected: | 60°C | 400-1600 r/min No Spin | 1200-1600 r/min | O :unselected: | – :unselected: :unselected: | O :unselected: | O :unselected: | O :unselected: | 0 :unselected: | O :selected: | – :unselected: :unselected: | O :selected: | O :unselected: |\\n| Wash&Dry60 | This is a program for washing and drying your lightly soiled 4 or less shirts in a short time. The degree of dryness varies depending on the type or material of clothing. | – | 1 kg :selected: | – :unselected: | – :unselected: | 1 kg | – :unselected: | Cold/30℃ | – :unselected: | 1200 r/min | - :unselected: | - :unselected: | - :unselected: :unselected: | O :unselected: | – :unselected: | – :unselected: | O :unselected: | - :unselected: | - :unselected: | – :unselected: |\\n\\n', metadata={'header_text': ['Auto Self Clean', 'BD-D100XGV/BD-D100GV', 'BD-D120XGV/BD-D120GV', 'Dry Option', 'Drying', 'Drying', 'Drying', 'Model / Max Load', 'Program', 'Rinse Count', 'Rinse Hold', 'Selectable Options', 'Spin Setting', 'Temperature Setting', 'Time Dry', 'Timer', 'Type of Laundry / Notes', 'U Prewash', 'Wash/Dry Mode', 'Washing', 'Washing', 'Washing', 'Washing', 'Washing- Drying', 'Washing- Drying', 'Washing- Drying', 'Washing- Drying'], 'page': [36, 37, 38, 39], 'row_count': 24, 'column_count': 21, 'type': 'table'}), Document(page_content='\\n\\n| Program | Type of Laundry / Notes | Model / Max Load | Temperature Setting | Spin Setting | Selectable Options |\\n| --- | --- | --- | --- | --- | --- |\\n| BD-D120XGV/BD-D120GV | BD-D100XGV/BD-D100GV | Washing | Washing- Drying | U Prewash | Rinse Count | Rinse Hold | Timer | Auto Self Clean | Wash/Dry Mode | Dry Option | Time Dry |\\n| Washing | Washing- Drying | Drying | Washing | Washing- Drying | Drying | Washing | Washing- Drying | Drying |\\n| AI Wash | This is a program for wash your usual laundry. | 12 kg | 8 kg (Low Temp. 4 kg) | – | 10 kg | 7 kg (Low Temp. 4 kg) | – | Cold/ 30-90°C | 400-1600 r/min No Spin | 1200-1600 r/min | O :unselected: | :unselected: 0 | C :unselected: | :unselected: O | :unselected: | 0 :unselected: | O :unselected: | – :unselected: | O :unselected: | O :unselected: |\\n| Cotton | This is a program for your cotton laundry. | 12 kg | 8 kg ( \\\\*\\\\* ) (Low Temp. 4 kg) | 8 kg ( \\\\*\\\\* ) (Low Temp. 4 kg) | 10 kg | 7 kg ( \\\\*\\\\* ) (Low Temp. 4 kg) | 7 kg ( \\\\*\\\\* ) (Low Temp. 4 kg) | Cold/ 30-90°C | 400-1600 r/min No Spin | 1200-1600 r/min | O :unselected: | :unselected: | O :unselected: | :unselected: O | O :unselected: | C :unselected: | C :unselected: | O :unselected: | C :unselected: | C :unselected: |\\n| Delicate | This is a program for your delicate laundry with symbol 30 and 40 . | 3 kg | – :unselected: | – :unselected: | 3 kg | – :unselected: | – :unselected: | Cold/ 30°C/40°C | 400-800 r/min No Spin | – :unselected: | –\\n:unselected: | :unselected:\\nO | :unselected: O | :unselected: O | –\\n:unselected: | :selected: | - :unselected: | - :unselected: | – :unselected: | – :unselected: |\\n\\n', metadata={'header_text': ['Auto Self Clean', 'BD-D100XGV/BD-D100GV', 'BD-D120XGV/BD-D120GV', 'Dry Option', 'Drying', 'Drying', 'Drying', 'Model / Max Load', 'Program', 'Rinse Count', 'Rinse Hold', 'Selectable Options', 'Spin Setting', 'Temperature Setting', 'Time Dry', 'Timer', 'Type of Laundry / Notes', 'U Prewash', 'Wash/Dry Mode', 'Washing', 'Washing', 'Washing', 'Washing', 'Washing- Drying', 'Washing- Drying', 'Washing- Drying', 'Washing- Drying'], 'page': [36, 37, 38, 39], 'row_count': 24, 'column_count': 21, 'type': 'table'}), Document(page_content='Select the Cotton program with water temperature at 60℃ setting and allow the unit to wash without clothing.  \\nThis will remove residues and water that may have been left in the drum during manufacturing.', metadata={'Header 2': 'Before the first wash'}), Document(page_content='Press  \\nFabric  \\nSoftener  \\nThe display changes with each press.  \\n<figure>  \\n![](figures/70)  \\n<!-- FigureContent=\"Display example Set Set Auto dosing off (Amount level; Normal) (First press) (Amount level; Less) (Second press) Set (Amount level; More) (Third press) (Ligth off) Fabric More Fabric More Fabric More Fabric More Softener Less Softener Less Softener Less Softener Less The display changes each time you press\" -->  \\n</figure>  \\n<figure>  \\n![](figures/71)  \\n<!-- FigureContent=\"3\" -->  \\n</figure>  \\nPress  \\n<!-- PageFooter=\"to store the settings.\" -->  \\nStart/Pause  \\n<!-- PageNumber=\"35\" -->  \\n<!-- PageHeader=\"Program Overview\" -->  \\n| Program | Type of Laundry / Notes | Model / Max Load ||||||\\n||| BD-D120XGV/BD-D120GV ||| BD-D100XGV/BD-D100GV |||\\n||| Washing | Washing- Drying | Drying | Washing | Washing- Drying | Drying |\\n| - | - | - | - | - | - | - | - |\\n| AI Wash | This is a program for wash your usual laundry. | 12 kg | 8 kg (Low Temp. 4 kg) | – | 10 kg | 7 kg (Low Temp. 4 kg) | – |\\n| Cotton | This is a program for your cotton laundry. | 12 kg | 8 kg ( \\\\\\\\*\\\\\\\\* ) (Low Temp. 4 kg) | 8 kg ( \\\\\\\\*\\\\\\\\* ) (Low Temp. 4 kg) | 10 kg | 7 kg ( \\\\\\\\*\\\\\\\\* ) (Low Temp. 4 kg) | 7 kg ( \\\\\\\\*\\\\\\\\* ) (Low Temp. 4 kg) |\\n| Delicate | This is a program for your delicate laundry with symbol 30 and 40 . | 3 kg | – :unselected: | – :unselected: | 3 kg | – :unselected: | – :unselected: |\\n| Rapid 15 | This is a program for your lightly soiled laundry in a short time. | 2 kg | – :unselected: | – | 2 kg | – :unselected: | – :unselected: |\\n| 60°C Hygiene | This program used when you want to sterilize cotton laundry or when you want to reduce allergens. | 4 kg | 4 kg | – :unselected: | 4 kg | 4 kg | – :unselected: |\\n| Wash&Dry60 | This is a program for washing and drying your lightly soiled 4 or less shirts in a short time. The degree of dryness varies depending on the type or material of clothing. | – | 1 kg :selected: | – :unselected: | – :unselected: | 1 kg | – :unselected: |\\n| Air Wash | This is a program for deodorizing and sterilizing your clothing by blowing warm air. | – :unselected: | – :unselected: | 1 kg :selected: | – :unselected: | – :unselected: | 1 kg |\\n| Steam Iron | This is a program that wrinkle and odour removal in 15 minutes for folded clothes. | – :unselected: | – :unselected: | 0.5 kg | – :unselected: | – :unselected: | 0.5 kg |\\n| Baby Care (\\\\\\\\*) (For model BD-D120XGV/ BD-D100XGV only) | This is a program for washing the baby clothes. | 4 kg | – :unselected: | – | 4 kg | – :unselected: | – |\\n| Duvet | This is a program for blankets and comforters with symbol :unselected: :selected:  30 .| 3 kg | 1 kg (\\\\\\\\*) :unselected: | 1 kg ( \\\\\\\\*\\\\\\\\*\\\\\\\\* ) | 3 kg | 1 kg ( \\\\\\\\*\\\\\\\\*\\\\\\\\* ) :unselected: | 1 kg ( \\\\\\\\*\\\\\\\\*\\\\\\\\* ) |\\n| Spin | This program is used when dehydrating wet clothing. | 12 kg | 8 kg (Low Temp. 4 kg) | – | 10 kg | 7 kg (Low Temp. 4 kg) | – |\\n| Dry Only | This program is used to dry wet clothes. | – :unselected: :unselected: | – :unselected: | 8 kg | – | – :unselected: | 7 kg |\\n| Tub Wash | This program is used when you are worried about dirt and odors on the drum. Please do not put laundry. | - | - :unselected: | - :unselected: | - :unselected: | - :unselected: | – :unselected: |\\n| Rinse & Spin (\\\\\\\\*) (When use BD-D120XGV/ BD-D100XGV Please download the program from the application.) | This program is used to rinse and spin laundry. | 12 kg | 8 kg (Low Temp. 4 kg) | – | 10 kg | 7 kg (Low Temp. 4 kg) | – :unselected: |  \\n(\\\\\\\\*) is the download program for model BD-D120XGV/BD-D100XGV, please download the program from the application to use.  \\n( \\\\\\\\*\\\\\\\\* ) The Cotton program is for cotton clothing. Drying synthetic or blended garments in this program may make the garments less dry. In that case, please ues the Al Wash program or the Dry Only program.  \\n( \\\\\\\\*\\\\\\\\*\\\\\\\\* ) If you want to wash or dry the blanket not the duvet, if can operate until 3 kg.  \\nDry option can be set to 2 types (Low Temp. and Extra Dry).  \\nTime Dry option can set the drying time from 30 minutes to 2 hours.  \\nCotton, 60℃, 1200rpm program cycle is the recommended program cycle for a normal soiled load at the rateed capacity.  \\n<!-- PageNumber=\"36\" --> :unselected: :unselected: :unselected:  \\n| Temperature Setting | Spin Setting || Selectable Options ||||||||||\\n|| Washing | Washing- Drying | U Prewash | Rinse Count | Rinse Hold | Timer | Auto Self Clean | Wash/Dry Mode ||| Dry Option | Time Dry |\\n||||||||| Washing | Washing- Drying | Drying |||\\n| - | - | - | - | - | - | - | - | - | - | - | - | - |\\n| Cold/ 30-90°C | 400-1600 r/min No Spin | 1200-1600 r/min | O :unselected: | :unselected: 0 | C :unselected: | :unselected: O | :unselected: | 0 :unselected: | O :unselected: | – :unselected: | O :unselected: | O :unselected: |\\n| Cold/ 30-90°C | 400-1600 r/min No Spin | 1200-1600 r/min | O :unselected: | :unselected: | O :unselected: | :unselected: O | O :unselected: | C :unselected: | C :unselected: | O :unselected: | C :unselected: | C :unselected: |\\n| Cold/ 30°C/40°C | 400-800 r/min No Spin | – :unselected: | –| :unselected: :unselected:  O | :unselected: O | :unselected: O | –| :selected:  :unselected: | - :unselected: | - :unselected: | – :unselected: | – :unselected: |\\n| Cold/30℃ | 400-1200 r/min No Spin | – :unselected: | – :unselected: | \\\\\\\\_ :unselected: | O :unselected: | – :unselected: | – :unselected: :unselected: | O :selected: | - :unselected: | - :unselected: | – :unselected: | – :unselected: |\\n| 60°C | 400-1600 r/min No Spin | 1200-1600 r/min | O :unselected: | – :unselected: :unselected: | O :unselected: | O :unselected: | O :unselected: | 0 :unselected: | O :selected: | – :unselected: :unselected: | O :selected: | O :unselected: |\\n| Cold/30℃ | – :unselected: | 1200 r/min | - :unselected: | - :unselected: | - :unselected: :unselected: | O :unselected: | – :unselected: | – :unselected: | O :unselected: | - :unselected: | - :unselected: | – :unselected: |\\n| – :unselected: | – :unselected: | – :unselected: | – :unselected: | – :unselected: | – :unselected: | – :unselected: | – :unselected: | - :unselected: | - :unselected: | O :unselected: | – :unselected: | – :unselected: |\\n| – :unselected: | – :unselected: | – :unselected: | – :unselected: :unselected: | – :unselected: :unselected: | – :unselected: | – :unselected: | – :unselected: :unselected: | - :unselected: | - :unselected: | O :selected: | – :unselected: :unselected: | – :unselected: |\\n| 40℃ | 400-1200 r/min | – :unselected: | – :unselected: | O :unselected: | :unselected: O | O :unselected: | O :unselected: | O :unselected: | - :unselected: | - :unselected: | – :unselected: | – :unselected: |\\n| Cold/ 30°C/40°C | 1200 r/min No Spin | 1200 r/min | – :unselected: :unselected: | – :unselected: :unselected: | O :unselected: | O :unselected: | – :unselected: | O :unselected: | C :unselected: | O :selected: | – :unselected: | – :unselected: |\\n| – :unselected: | 400-1600 r/min No Spin | 1200-1600 r/min | - :unselected: | - :unselected: :unselected: | - :unselected: :unselected: | - :unselected: :unselected: | - :unselected: | O :selected: | O :selected: | – :unselected: :unselected: | O :unselected: | :unselected: O |\\n| – :unselected: | – | – :unselected: | - :unselected: :unselected: | - :unselected: :unselected: | - :unselected: | O :unselected: | – :unselected: | - :unselected: :unselected: | - :unselected: | O| :unselected: :selected:  O | :unselected: C |\\n| – :unselected: | 1200 r/min | – :unselected: | - :unselected: | - :unselected: | - :unselected: | - :unselected: | - :unselected: | O :selected: | - :unselected: | - :unselected: | – :unselected: | – :unselected: |\\n| – :unselected: | 400-1600 r/min No Spin | 1200-1600 r/min | – :unselected: | O :unselected: | O :unselected: | – :unselected: | O :unselected: | O :unselected: | :unselected: O | – :unselected: | O :unselected: | O :unselected: |  \\n<!-- PageNumber=\"37\" -->  \\nProgram Overview (Continue)\\n===  \\n| Program | Type of Laundry / Notes | Model / Max Load ||||||\\n||| BD-D120XGV/BD-D120GV ||| BD-D100XGV/BD-D100GV |||\\n||| Washing | Washing- Drying | Drying | Washing | Washing- Drying | Drying |\\n| - | - | - | - | - | - | - | - |\\n| Synthetic (\\\\\\\\*) (For model BD-D120XGV/ BD-D100XGV only) | This program is used when you want to wash synthetic type laundry. | 4.5 kg | 4.5 kg | 4.5 kg | 4.5 kg | 4.5 kg | 4.5 kg |\\n| Wool | This is a program for your wool laundry with symbol and P . :selected: | 3 kg | – :unselected: | – | 3 kg | – | – |\\n| Outdoor (\\\\\\\\*) (For model BD-D120XGV/ BD-D100XGV only) | This program is used when you want to wash waterproof clothes such as Gore-Tex. | 3 kg | – :unselected: | – | 3 kg | – :unselected: | – |\\n| Daily 38 (\\\\\\\\*) (For model BD-D120XGV/ BD-D100XGV only) | This program is used when you want to wash in a short time. | 5 kg | – :unselected: | – | 5 kg | – :unselected: | – :unselected: |\\n| Silent (\\\\\\\\*) (For model BD-D120XGV/ BD-D100XGV only) | This program is used when you want to wash and dry quietly. | 4.5 kg | 3 kg | 3 kg | 4.5 kg | 3 kg | 3 kg |\\n| Crease Care (\\\\\\\\*) (For model BD-D120XGV/ BD-D100XGV only) | This program is used when you want to eliminate wrinkles caused by washing. | 4.5 kg | – | – | 4.5 kg | – | – |\\n| Stain Care (\\\\\\\\*) (For model BD-D120XGV/ BD-D100XGV only) | This program is used to remove and prevent yellowing and stain of your laundry. | 2 kg | 2 kg | – | 2 kg | 2 kg | – |\\n| No Tumble Dry (\\\\\\\\*) (For model BD-D120XGV/ BD-D100XGV only) | This program is used when you want to dry the washing tub without rotating it. Drying fashionable clothes and shoes is recommended. | – | – | 0.5 kg | – | – | 0.5 kg |\\n| Tub Dry (\\\\\\\\*) (For model BD-D120XGV/ BD-D100XGV only) | This program is used when you want to dry the drum. | - :unselected: | - :unselected: | - :unselected: | - | - :unselected: | – |\\n| Hot Tub Wash (\\\\\\\\*) (For model BD-D120XGV/ BD-D100XGV only) | This program is used when you are worried about dirt or odor on the drum. Do not put the washing tub cleaner. Hazardous gas may be generated. | - :unselected: | :unselected: | :unselected: | - | - :unselected: | – |  \\n(\\\\\\\\*) is the download program for model BD-D120XGV/BD-D100XGV, please download the program from the application to use.  \\nDry option can be set to 2 types (Low Temp. and Extra Dry).  \\nTime Dry option can set the drying time from 30 minutes to 2 hours.  \\nCotton, 60℃, 1200rpm program cycle is the recommended program cycle for a normal soiled load at the rateed capacity.  \\n<!-- PageNumber=\"38\" -->  \\n| Temperature Setting | Spin Setting || Selectable Options ||||||||||\\n|| Washing | Washing- Drying | U Prewash | Rinse Count | Rinse Hold | Timer | Auto Self Clean | Wash/Dry Mode ||| Dry Option | Time Dry |\\n||||||||| Washing | Washing- Drying | Drying |||\\n| - | - | - | - | - | - | - | - | - | - | - | - | - |\\n| Cold/ 30-60℃ | 400-1600 r/min No Spin | 1200-1600 r/min | :unselected: O | :unselected: | :unselected: O | :unselected: O | :unselected: O | :unselected: O | O :unselected: | :unselected: O | – :unselected: | O :unselected: |\\n| Cold/30°C | 400 r/min No Spin | – :unselected: | - :unselected: :unselected: | - :unselected: | O :unselected: | :unselected: O | – :unselected: | O :unselected: | - :unselected: | - :unselected: | – :unselected: | – :unselected: |\\n| Cold/ 30-40℃ | 800 r/min No spin | – :unselected: | – :unselected: | O :unselected: | O :unselected: | O :unselected: | :unselected: O | O :unselected: | - :unselected: | - :unselected: | – :unselected: | – :unselected: |\\n| Cold/ 30-60℃ | 400-1600 r/min No spin | –| :unselected: :unselected:  O | :unselected: O | :unselected: O | :unselected: O | :unselected: 0 | O :unselected: | - :unselected: | - :unselected: | – :unselected: | – :unselected: |\\n| Cold/ 30-90℃ | 400-1200 r/min No spin | 800-1200 r/min | O :unselected: | O :unselected: | O :unselected: | O :unselected: | :unselected: C | O :unselected: | :unselected: O | O :unselected: | – :unselected: | – :unselected: |\\n| Cold/ 30-60℃ | 400-1200 r/min No spin | –| :unselected: :unselected:  O | :unselected: O | :unselected: O | :unselected: O | O :unselected: | :unselected: O | - :unselected: | - :unselected: | – :unselected: | – :unselected: |\\n| 40℃ | 400-1600 r/min No Spin | 1200-1600 r/min | – :unselected: :unselected: | –| :unselected: :unselected:  O | :unselected: O | :unselected: 0 | :unselected: C | O :unselected: | –| :unselected: :unselected:  O | :unselected: O |\\n| – | – :unselected: | – :unselected: | - :unselected: | - :unselected: :unselected: | -| :unselected: :unselected:  O | – :unselected: | 1 :unselected: | - :unselected: | O :unselected: | – :unselected: | – :unselected: |\\n| – | – :unselected: | – :unselected: | – :unselected: | – :unselected: | – :unselected: | – :unselected: | – :unselected: | - :unselected: :unselected: | - :unselected: | O :unselected: | – :unselected: | – :unselected: |\\n| – | – :unselected: | – :unselected: | - :unselected: | - :unselected: | - :unselected: | - :unselected: | - :unselected: | O :selected: | - :unselected: | - :unselected: | – :unselected: | – :unselected: |  \\n<!-- PageNumber=\"39\" -->  \\n<!-- PageHeader=\"How to Use the Washer Dryer Program\" -->  \\nUsing AI Wash  \\nThis washer dryer consists of multiple sensors to sense various washing conditions and automatically control the washing method and operating time according to the type of detergent, type of clothing, water hardness, and other conditions.  \\nOperation  \\nSensing detergent dissolution (It detects water hardness, water temperature, cloth volume and detergent type)  \\nWash (It detects, cloth movement and type of clothing)  \\nRinse (It detects the degree of rinsing)  \\nDehydration (It detects the degree of dehydration)', metadata={'Header 2': 'To set and unset fabric softener'})]\n"
     ]
    }
   ],
   "source": [
    "retriever = vector_store.as_retriever(search_type=\"similarity\", search_kwargs={\"k\": 5})\n",
    "\n",
    "retrieved_docs = retriever.get_relevant_documents(\n",
    "    \"For AI wash program what is suggested temperature setting?\"\n",
    ")\n",
    "\n",
    "print(retrieved_docs)"
   ]
  },
  {
   "cell_type": "code",
   "execution_count": 44,
   "metadata": {},
   "outputs": [
    {
     "name": "stdout",
     "output_type": "stream",
     "text": [
      "[Document(page_content='\\n\\n| Program | Type of Laundry / Notes | Model / Max Load | Temperature Setting | Spin Setting | Selectable Options |\\n| --- | --- | --- | --- | --- | --- |\\n| BD-D120XGV/BD-D120GV | BD-D100XGV/BD-D100GV | Washing | Washing- Drying | U Prewash | Rinse Count | Rinse Hold | Timer | Auto Self Clean | Wash/Dry Mode | Dry Option | Time Dry |\\n| Washing | Washing- Drying | Drying | Washing | Washing- Drying | Drying | Washing | Washing- Drying | Drying |\\n| Tub Wash | This program is used when you are worried about dirt and odors on the drum. Please do not put laundry. | - | - :unselected: | - :unselected: | - :unselected: | - :unselected: | – :unselected: | – :unselected: | 1200 r/min | – :unselected: | - :unselected: | - :unselected: | - :unselected: | - :unselected: | - :unselected: | O :selected: | - :unselected: | - :unselected: | – :unselected: | – :unselected: |\\n| Rinse & Spin (\\\\*) (When use BD-D120XGV/ BD-D100XGV Please download the program from the application.) | This program is used to rinse and spin laundry. | 12 kg | 8 kg (Low Temp. 4 kg) | – | 10 kg | 7 kg (Low Temp. 4 kg) | – :unselected: | – :unselected: | 400-1600 r/min No Spin | 1200-1600 r/min | – :unselected: | O :unselected: | O :unselected: | – :unselected: | O :unselected: | O :unselected: | :unselected: O | – :unselected: | O :unselected: | O :unselected: |\\n| Synthetic (\\\\*) (For model BD-D120XGV/ BD-D100XGV only) | This program is used when you want to wash synthetic type laundry. | 4.5 kg | 4.5 kg | 4.5 kg | 4.5 kg | 4.5 kg | 4.5 kg | Cold/ 30-60℃ | 400-1600 r/min No Spin | 1200-1600 r/min | :unselected: O | :unselected: | :unselected: O | :unselected: O | :unselected: O | :unselected: O | O :unselected: | :unselected: O | – :unselected: | O :unselected: |\\n\\n', metadata={'header_text': ['Auto Self Clean', 'BD-D100XGV/BD-D100GV', 'BD-D120XGV/BD-D120GV', 'Dry Option', 'Drying', 'Drying', 'Drying', 'Model / Max Load', 'Program', 'Rinse Count', 'Rinse Hold', 'Selectable Options', 'Spin Setting', 'Temperature Setting', 'Time Dry', 'Timer', 'Type of Laundry / Notes', 'U Prewash', 'Wash/Dry Mode', 'Washing', 'Washing', 'Washing', 'Washing', 'Washing- Drying', 'Washing- Drying', 'Washing- Drying', 'Washing- Drying'], 'page': [36, 37, 38, 39], 'row_count': 24, 'column_count': 21, 'type': 'table'}), Document(page_content='Lightly to normally soiled  \\n: No washing options (Prewash) are necessary for more eco-friendly operation.  \\nHeavily soiled  \\n: Select Prewash as an option for better washing results.  \\n<!-- PageNumber=\"26\" --> :selected: :selected: :unselected: :unselected: :unselected: :selected: :unselected: :unselected: :selected: :selected: :selected: :selected: :selected:  \\n<!-- PageHeader=\"How to Use the Washer Dryer\" -->  \\n<figure>  \\n![](figures/54)  \\n<!-- FigureContent=\"4 52 3 0 0 0 1 0 wer On/Off Liquid More 0 Detergent - AI Wash Rapid 15 Wool Dry Only Start/Pause 0 1600 1200 Cotton Wash& Dry Duvet Tub Wash Remote 0 800 40 0 400 30 Wash/Dry Mode Delicate Air Wash Spin Download Auto Sel Clean Cold! Extra .. ...... Water Dry Option 60 ℃ Special Spin SteamIron Program Memory 12/8kg Temp .. Hygiene BD-D120XGV\" -->  \\n</figure>', metadata={'Header 2': 'Washing with different degrees of soiling'}), Document(page_content='1\\\\. Open the tap.  \\n2\\\\. Put the laundry in the drum, fill detergent/softener and then close the door.  \\n3\\\\. Press the Power On/Off button to turn on the power.  \\n4\\\\. Press Wash/Dry Mode button to select Wash mode or Wash/Dry mode.  \\n5\\\\. Select AI Wash program (the indicator light on the program button will flash).  \\n6\\\\. Press the Start/Pause button to start operation.  \\n<figure>  \\n![](figures/72)  \\n<!-- FigureContent=\"NOTICE\" -->  \\n</figure>  \\n· For models with \"Autodosing\" function and this function activated, it is not necessary to fill detergent, bleach and fabric softener manually.', metadata={'Header 2': 'Operation:'})]\n"
     ]
    }
   ],
   "source": [
    "retriever = vector_store.as_retriever(search_type=\"similarity\", search_kwargs={\"k\": 3})\n",
    "\n",
    "retrieved_docs = retriever.get_relevant_documents(\n",
    "    \"For AI wash what is suggested spin setting for washing?\"\n",
    ")\n",
    "\n",
    "print(retrieved_docs)"
   ]
  },
  {
   "cell_type": "code",
   "execution_count": null,
   "metadata": {},
   "outputs": [],
   "source": []
  }
 ],
 "metadata": {
  "kernelspec": {
   "display_name": "Python 3 (ipykernel)",
   "language": "python",
   "name": "python3"
  },
  "language_info": {
   "codemirror_mode": {
    "name": "ipython",
    "version": 3
   },
   "file_extension": ".py",
   "mimetype": "text/x-python",
   "name": "python",
   "nbconvert_exporter": "python",
   "pygments_lexer": "ipython3",
   "version": "3.10.13"
  }
 },
 "nbformat": 4,
 "nbformat_minor": 4
}
